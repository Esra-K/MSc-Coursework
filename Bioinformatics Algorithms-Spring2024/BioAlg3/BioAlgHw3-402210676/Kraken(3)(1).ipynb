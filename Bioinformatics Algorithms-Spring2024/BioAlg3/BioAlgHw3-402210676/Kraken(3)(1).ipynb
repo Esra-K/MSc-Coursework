{
  "cells": [
    {
      "cell_type": "markdown",
      "metadata": {
        "id": "9IIegg8Zxrl9"
      },
      "source": [
        "# Simplified Kraken Sequence Classification Algorithm"
      ]
    },
    {
      "cell_type": "markdown",
      "metadata": {
        "id": "7Hb0NbtheuWW"
      },
      "source": [
        "**Name:** Esra Kashaninia\n",
        "\n",
        "**Student Number:** 402210676"
      ]
    },
    {
      "cell_type": "markdown",
      "metadata": {
        "id": "-63NXyGcxrmB"
      },
      "source": [
        "## Introduction\n",
        "\n",
        "### Overview\n",
        "Sequence classification is a fundamental task in bioinformatics, pivotal for understanding biological data derived from sequencing technologies. It involves determining the taxonomic origin of sequences extracted from samples, which can range from single cells to complex environments like soil or ocean water. This classification process is crucial for tasks such as identifying pathogens, studying biodiversity, or understanding microbial communities.\n",
        "\n",
        "### The Kraken Algorithm\n",
        "Kraken is a bioinformatics algorithm designed for the rapid and accurate classification of metagenomic sequences using exact k-mer matching. The original Kraken algorithm leverages a sophisticated database structure to map short DNA sequences (k-mers) extracted from longer genomic sequences to the lowest common ancestor (LCA) in a taxonomic tree of all genomes that contain them. This mapping allows the algorithm to classify sequences with high precision based on the taxonomic information of their constituent k-mers."
      ]
    },
    {
      "cell_type": "markdown",
      "metadata": {
        "id": "IHUUz0grxrmB"
      },
      "source": [
        "# Database Preparation"
      ]
    },
    {
      "cell_type": "markdown",
      "metadata": {
        "id": "ZQ-Wdp6BxrmC"
      },
      "source": [
        "## Downloading the `Kraken2`'s `Viral` Database"
      ]
    },
    {
      "cell_type": "code",
      "execution_count": 1,
      "metadata": {
        "colab": {
          "base_uri": "https://localhost:8080/"
        },
        "id": "L1NsnLsyxrmC",
        "outputId": "5ce1186f-8167-4967-ca6e-4f8b91c9d42c"
      },
      "outputs": [
        {
          "output_type": "stream",
          "name": "stdout",
          "text": [
            "--2024-05-15 06:28:34--  https://genome-idx.s3.amazonaws.com/kraken/k2_viral_20240112.tar.gz\n",
            "Resolving genome-idx.s3.amazonaws.com (genome-idx.s3.amazonaws.com)... 54.231.132.105, 52.216.38.73, 52.216.146.59, ...\n",
            "Connecting to genome-idx.s3.amazonaws.com (genome-idx.s3.amazonaws.com)|54.231.132.105|:443... connected.\n",
            "HTTP request sent, awaiting response... 200 OK\n",
            "Length: 506061528 (483M) [application/x-tar]\n",
            "Saving to: ‘/content/viral-k2/k2_viral_20240112.tar.gz’\n",
            "\n",
            "k2_viral_20240112.t 100%[===================>] 482.62M  24.5MB/s    in 16s     \n",
            "\n",
            "2024-05-15 06:28:51 (29.5 MB/s) - ‘/content/viral-k2/k2_viral_20240112.tar.gz’ saved [506061528/506061528]\n",
            "\n"
          ]
        }
      ],
      "source": [
        "!wget \"https://genome-idx.s3.amazonaws.com/kraken/k2_viral_20240112.tar.gz\" -P /content/viral-k2/"
      ]
    },
    {
      "cell_type": "markdown",
      "metadata": {
        "id": "1Sw1zq99xrmE"
      },
      "source": [
        "## Extracting the Database"
      ]
    },
    {
      "cell_type": "code",
      "execution_count": 2,
      "metadata": {
        "colab": {
          "base_uri": "https://localhost:8080/"
        },
        "id": "A1SmWrKGxrmF",
        "outputId": "f0b08f68-8644-4569-f537-cdda8b992900"
      },
      "outputs": [
        {
          "output_type": "stream",
          "name": "stdout",
          "text": [
            "hash.k2d\n",
            "opts.k2d\n",
            "taxo.k2d\n",
            "seqid2taxid.map\n",
            "inspect.txt\n",
            "ktaxonomy.tsv\n",
            "library_report.tsv\n",
            "database100mers.kmer_distrib\n",
            "database150mers.kmer_distrib\n",
            "database200mers.kmer_distrib\n",
            "database250mers.kmer_distrib\n",
            "database300mers.kmer_distrib\n",
            "database50mers.kmer_distrib\n",
            "database75mers.kmer_distrib\n"
          ]
        }
      ],
      "source": [
        "!tar xfvz \"/content/viral-k2/k2_viral_20240112.tar.gz\" -C '/content/viral-k2/'"
      ]
    },
    {
      "cell_type": "markdown",
      "metadata": {
        "id": "fCRM2zeFxrmF"
      },
      "source": [
        "## Downloading genome sequences"
      ]
    },
    {
      "cell_type": "code",
      "execution_count": 3,
      "metadata": {
        "colab": {
          "base_uri": "https://localhost:8080/"
        },
        "id": "R_3TcQgPy4Fp",
        "outputId": "de5456e7-a3aa-408f-86a9-980fcef4b7c9"
      },
      "outputs": [
        {
          "output_type": "stream",
          "name": "stdout",
          "text": [
            "(18639, 4)\n"
          ]
        }
      ],
      "source": [
        "import pandas as pd\n",
        "\n",
        "k2_viral_df = pd.read_csv('/content/viral-k2/library_report.tsv', sep='\\t')\n",
        "k2_viral_df['accession_id'] = k2_viral_df['Sequence Name'].apply(lambda x: x.split()[0][1:])\n",
        "\n",
        "k2_viral_df = k2_viral_df.sort_values('accession_id')\n",
        "\n",
        "print(k2_viral_df.shape)"
      ]
    },
    {
      "cell_type": "code",
      "execution_count": 4,
      "metadata": {
        "colab": {
          "base_uri": "https://localhost:8080/",
          "height": 206
        },
        "id": "fH_X4ear3CAX",
        "outputId": "70f7be02-ad7a-40de-824e-2e46dcd6bc38"
      },
      "outputs": [
        {
          "output_type": "execute_result",
          "data": {
            "text/plain": [
              "      #Library                                      Sequence Name  \\\n",
              "15700    viral   >AC_000001.1 Ovine adenovirus A, complete genome   \n",
              "8372     viral  >AC_000002.1 Bovine adenovirus B, complete genome   \n",
              "1050     viral  >AC_000003.1 Canine adenovirus 1, complete genome   \n",
              "12390    viral    >AC_000004.1 Duck adenovirus A, complete genome   \n",
              "5103     viral  >AC_000005.1 Human mastadenovirus A, complete ...   \n",
              "\n",
              "                                                     URL accession_id  \n",
              "15700  ftp://ftp.ncbi.nlm.nih.gov//genomes/all/GCF/00...  AC_000001.1  \n",
              "8372   ftp://ftp.ncbi.nlm.nih.gov//genomes/all/GCF/00...  AC_000002.1  \n",
              "1050   ftp://ftp.ncbi.nlm.nih.gov//genomes/all/GCF/00...  AC_000003.1  \n",
              "12390  ftp://ftp.ncbi.nlm.nih.gov//genomes/all/GCF/00...  AC_000004.1  \n",
              "5103   ftp://ftp.ncbi.nlm.nih.gov//genomes/all/GCF/00...  AC_000005.1  "
            ],
            "text/html": [
              "\n",
              "  <div id=\"df-c70d15cf-c413-4126-8f2e-3679c20522b2\" class=\"colab-df-container\">\n",
              "    <div>\n",
              "<style scoped>\n",
              "    .dataframe tbody tr th:only-of-type {\n",
              "        vertical-align: middle;\n",
              "    }\n",
              "\n",
              "    .dataframe tbody tr th {\n",
              "        vertical-align: top;\n",
              "    }\n",
              "\n",
              "    .dataframe thead th {\n",
              "        text-align: right;\n",
              "    }\n",
              "</style>\n",
              "<table border=\"1\" class=\"dataframe\">\n",
              "  <thead>\n",
              "    <tr style=\"text-align: right;\">\n",
              "      <th></th>\n",
              "      <th>#Library</th>\n",
              "      <th>Sequence Name</th>\n",
              "      <th>URL</th>\n",
              "      <th>accession_id</th>\n",
              "    </tr>\n",
              "  </thead>\n",
              "  <tbody>\n",
              "    <tr>\n",
              "      <th>15700</th>\n",
              "      <td>viral</td>\n",
              "      <td>&gt;AC_000001.1 Ovine adenovirus A, complete genome</td>\n",
              "      <td>ftp://ftp.ncbi.nlm.nih.gov//genomes/all/GCF/00...</td>\n",
              "      <td>AC_000001.1</td>\n",
              "    </tr>\n",
              "    <tr>\n",
              "      <th>8372</th>\n",
              "      <td>viral</td>\n",
              "      <td>&gt;AC_000002.1 Bovine adenovirus B, complete genome</td>\n",
              "      <td>ftp://ftp.ncbi.nlm.nih.gov//genomes/all/GCF/00...</td>\n",
              "      <td>AC_000002.1</td>\n",
              "    </tr>\n",
              "    <tr>\n",
              "      <th>1050</th>\n",
              "      <td>viral</td>\n",
              "      <td>&gt;AC_000003.1 Canine adenovirus 1, complete genome</td>\n",
              "      <td>ftp://ftp.ncbi.nlm.nih.gov//genomes/all/GCF/00...</td>\n",
              "      <td>AC_000003.1</td>\n",
              "    </tr>\n",
              "    <tr>\n",
              "      <th>12390</th>\n",
              "      <td>viral</td>\n",
              "      <td>&gt;AC_000004.1 Duck adenovirus A, complete genome</td>\n",
              "      <td>ftp://ftp.ncbi.nlm.nih.gov//genomes/all/GCF/00...</td>\n",
              "      <td>AC_000004.1</td>\n",
              "    </tr>\n",
              "    <tr>\n",
              "      <th>5103</th>\n",
              "      <td>viral</td>\n",
              "      <td>&gt;AC_000005.1 Human mastadenovirus A, complete ...</td>\n",
              "      <td>ftp://ftp.ncbi.nlm.nih.gov//genomes/all/GCF/00...</td>\n",
              "      <td>AC_000005.1</td>\n",
              "    </tr>\n",
              "  </tbody>\n",
              "</table>\n",
              "</div>\n",
              "    <div class=\"colab-df-buttons\">\n",
              "\n",
              "  <div class=\"colab-df-container\">\n",
              "    <button class=\"colab-df-convert\" onclick=\"convertToInteractive('df-c70d15cf-c413-4126-8f2e-3679c20522b2')\"\n",
              "            title=\"Convert this dataframe to an interactive table.\"\n",
              "            style=\"display:none;\">\n",
              "\n",
              "  <svg xmlns=\"http://www.w3.org/2000/svg\" height=\"24px\" viewBox=\"0 -960 960 960\">\n",
              "    <path d=\"M120-120v-720h720v720H120Zm60-500h600v-160H180v160Zm220 220h160v-160H400v160Zm0 220h160v-160H400v160ZM180-400h160v-160H180v160Zm440 0h160v-160H620v160ZM180-180h160v-160H180v160Zm440 0h160v-160H620v160Z\"/>\n",
              "  </svg>\n",
              "    </button>\n",
              "\n",
              "  <style>\n",
              "    .colab-df-container {\n",
              "      display:flex;\n",
              "      gap: 12px;\n",
              "    }\n",
              "\n",
              "    .colab-df-convert {\n",
              "      background-color: #E8F0FE;\n",
              "      border: none;\n",
              "      border-radius: 50%;\n",
              "      cursor: pointer;\n",
              "      display: none;\n",
              "      fill: #1967D2;\n",
              "      height: 32px;\n",
              "      padding: 0 0 0 0;\n",
              "      width: 32px;\n",
              "    }\n",
              "\n",
              "    .colab-df-convert:hover {\n",
              "      background-color: #E2EBFA;\n",
              "      box-shadow: 0px 1px 2px rgba(60, 64, 67, 0.3), 0px 1px 3px 1px rgba(60, 64, 67, 0.15);\n",
              "      fill: #174EA6;\n",
              "    }\n",
              "\n",
              "    .colab-df-buttons div {\n",
              "      margin-bottom: 4px;\n",
              "    }\n",
              "\n",
              "    [theme=dark] .colab-df-convert {\n",
              "      background-color: #3B4455;\n",
              "      fill: #D2E3FC;\n",
              "    }\n",
              "\n",
              "    [theme=dark] .colab-df-convert:hover {\n",
              "      background-color: #434B5C;\n",
              "      box-shadow: 0px 1px 3px 1px rgba(0, 0, 0, 0.15);\n",
              "      filter: drop-shadow(0px 1px 2px rgba(0, 0, 0, 0.3));\n",
              "      fill: #FFFFFF;\n",
              "    }\n",
              "  </style>\n",
              "\n",
              "    <script>\n",
              "      const buttonEl =\n",
              "        document.querySelector('#df-c70d15cf-c413-4126-8f2e-3679c20522b2 button.colab-df-convert');\n",
              "      buttonEl.style.display =\n",
              "        google.colab.kernel.accessAllowed ? 'block' : 'none';\n",
              "\n",
              "      async function convertToInteractive(key) {\n",
              "        const element = document.querySelector('#df-c70d15cf-c413-4126-8f2e-3679c20522b2');\n",
              "        const dataTable =\n",
              "          await google.colab.kernel.invokeFunction('convertToInteractive',\n",
              "                                                    [key], {});\n",
              "        if (!dataTable) return;\n",
              "\n",
              "        const docLinkHtml = 'Like what you see? Visit the ' +\n",
              "          '<a target=\"_blank\" href=https://colab.research.google.com/notebooks/data_table.ipynb>data table notebook</a>'\n",
              "          + ' to learn more about interactive tables.';\n",
              "        element.innerHTML = '';\n",
              "        dataTable['output_type'] = 'display_data';\n",
              "        await google.colab.output.renderOutput(dataTable, element);\n",
              "        const docLink = document.createElement('div');\n",
              "        docLink.innerHTML = docLinkHtml;\n",
              "        element.appendChild(docLink);\n",
              "      }\n",
              "    </script>\n",
              "  </div>\n",
              "\n",
              "\n",
              "<div id=\"df-ecbf43b8-8da0-47f1-8ba5-856915c0533e\">\n",
              "  <button class=\"colab-df-quickchart\" onclick=\"quickchart('df-ecbf43b8-8da0-47f1-8ba5-856915c0533e')\"\n",
              "            title=\"Suggest charts\"\n",
              "            style=\"display:none;\">\n",
              "\n",
              "<svg xmlns=\"http://www.w3.org/2000/svg\" height=\"24px\"viewBox=\"0 0 24 24\"\n",
              "     width=\"24px\">\n",
              "    <g>\n",
              "        <path d=\"M19 3H5c-1.1 0-2 .9-2 2v14c0 1.1.9 2 2 2h14c1.1 0 2-.9 2-2V5c0-1.1-.9-2-2-2zM9 17H7v-7h2v7zm4 0h-2V7h2v10zm4 0h-2v-4h2v4z\"/>\n",
              "    </g>\n",
              "</svg>\n",
              "  </button>\n",
              "\n",
              "<style>\n",
              "  .colab-df-quickchart {\n",
              "      --bg-color: #E8F0FE;\n",
              "      --fill-color: #1967D2;\n",
              "      --hover-bg-color: #E2EBFA;\n",
              "      --hover-fill-color: #174EA6;\n",
              "      --disabled-fill-color: #AAA;\n",
              "      --disabled-bg-color: #DDD;\n",
              "  }\n",
              "\n",
              "  [theme=dark] .colab-df-quickchart {\n",
              "      --bg-color: #3B4455;\n",
              "      --fill-color: #D2E3FC;\n",
              "      --hover-bg-color: #434B5C;\n",
              "      --hover-fill-color: #FFFFFF;\n",
              "      --disabled-bg-color: #3B4455;\n",
              "      --disabled-fill-color: #666;\n",
              "  }\n",
              "\n",
              "  .colab-df-quickchart {\n",
              "    background-color: var(--bg-color);\n",
              "    border: none;\n",
              "    border-radius: 50%;\n",
              "    cursor: pointer;\n",
              "    display: none;\n",
              "    fill: var(--fill-color);\n",
              "    height: 32px;\n",
              "    padding: 0;\n",
              "    width: 32px;\n",
              "  }\n",
              "\n",
              "  .colab-df-quickchart:hover {\n",
              "    background-color: var(--hover-bg-color);\n",
              "    box-shadow: 0 1px 2px rgba(60, 64, 67, 0.3), 0 1px 3px 1px rgba(60, 64, 67, 0.15);\n",
              "    fill: var(--button-hover-fill-color);\n",
              "  }\n",
              "\n",
              "  .colab-df-quickchart-complete:disabled,\n",
              "  .colab-df-quickchart-complete:disabled:hover {\n",
              "    background-color: var(--disabled-bg-color);\n",
              "    fill: var(--disabled-fill-color);\n",
              "    box-shadow: none;\n",
              "  }\n",
              "\n",
              "  .colab-df-spinner {\n",
              "    border: 2px solid var(--fill-color);\n",
              "    border-color: transparent;\n",
              "    border-bottom-color: var(--fill-color);\n",
              "    animation:\n",
              "      spin 1s steps(1) infinite;\n",
              "  }\n",
              "\n",
              "  @keyframes spin {\n",
              "    0% {\n",
              "      border-color: transparent;\n",
              "      border-bottom-color: var(--fill-color);\n",
              "      border-left-color: var(--fill-color);\n",
              "    }\n",
              "    20% {\n",
              "      border-color: transparent;\n",
              "      border-left-color: var(--fill-color);\n",
              "      border-top-color: var(--fill-color);\n",
              "    }\n",
              "    30% {\n",
              "      border-color: transparent;\n",
              "      border-left-color: var(--fill-color);\n",
              "      border-top-color: var(--fill-color);\n",
              "      border-right-color: var(--fill-color);\n",
              "    }\n",
              "    40% {\n",
              "      border-color: transparent;\n",
              "      border-right-color: var(--fill-color);\n",
              "      border-top-color: var(--fill-color);\n",
              "    }\n",
              "    60% {\n",
              "      border-color: transparent;\n",
              "      border-right-color: var(--fill-color);\n",
              "    }\n",
              "    80% {\n",
              "      border-color: transparent;\n",
              "      border-right-color: var(--fill-color);\n",
              "      border-bottom-color: var(--fill-color);\n",
              "    }\n",
              "    90% {\n",
              "      border-color: transparent;\n",
              "      border-bottom-color: var(--fill-color);\n",
              "    }\n",
              "  }\n",
              "</style>\n",
              "\n",
              "  <script>\n",
              "    async function quickchart(key) {\n",
              "      const quickchartButtonEl =\n",
              "        document.querySelector('#' + key + ' button');\n",
              "      quickchartButtonEl.disabled = true;  // To prevent multiple clicks.\n",
              "      quickchartButtonEl.classList.add('colab-df-spinner');\n",
              "      try {\n",
              "        const charts = await google.colab.kernel.invokeFunction(\n",
              "            'suggestCharts', [key], {});\n",
              "      } catch (error) {\n",
              "        console.error('Error during call to suggestCharts:', error);\n",
              "      }\n",
              "      quickchartButtonEl.classList.remove('colab-df-spinner');\n",
              "      quickchartButtonEl.classList.add('colab-df-quickchart-complete');\n",
              "    }\n",
              "    (() => {\n",
              "      let quickchartButtonEl =\n",
              "        document.querySelector('#df-ecbf43b8-8da0-47f1-8ba5-856915c0533e button');\n",
              "      quickchartButtonEl.style.display =\n",
              "        google.colab.kernel.accessAllowed ? 'block' : 'none';\n",
              "    })();\n",
              "  </script>\n",
              "</div>\n",
              "    </div>\n",
              "  </div>\n"
            ],
            "application/vnd.google.colaboratory.intrinsic+json": {
              "type": "dataframe",
              "variable_name": "k2_viral_df",
              "summary": "{\n  \"name\": \"k2_viral_df\",\n  \"rows\": 18639,\n  \"fields\": [\n    {\n      \"column\": \"#Library\",\n      \"properties\": {\n        \"dtype\": \"category\",\n        \"num_unique_values\": 1,\n        \"samples\": [\n          \"viral\"\n        ],\n        \"semantic_type\": \"\",\n        \"description\": \"\"\n      }\n    },\n    {\n      \"column\": \"Sequence Name\",\n      \"properties\": {\n        \"dtype\": \"string\",\n        \"num_unique_values\": 18639,\n        \"samples\": [\n          \">NC_026016.1 Staphylococcus phage phiBU01, complete genome\"\n        ],\n        \"semantic_type\": \"\",\n        \"description\": \"\"\n      }\n    },\n    {\n      \"column\": \"URL\",\n      \"properties\": {\n        \"dtype\": \"string\",\n        \"num_unique_values\": 14972,\n        \"samples\": [\n          \"ftp://ftp.ncbi.nlm.nih.gov//genomes/all/GCF/008/221/585/GCF_008221585.1_ASM822158v1/GCF_008221585.1_ASM822158v1_genomic.fna.gz\"\n        ],\n        \"semantic_type\": \"\",\n        \"description\": \"\"\n      }\n    },\n    {\n      \"column\": \"accession_id\",\n      \"properties\": {\n        \"dtype\": \"string\",\n        \"num_unique_values\": 18639,\n        \"samples\": [\n          \"NC_026016.1\"\n        ],\n        \"semantic_type\": \"\",\n        \"description\": \"\"\n      }\n    }\n  ]\n}"
            }
          },
          "metadata": {},
          "execution_count": 4
        }
      ],
      "source": [
        "k2_viral_df.head()"
      ]
    },
    {
      "cell_type": "markdown",
      "metadata": {
        "id": "F526zhjBAiRa"
      },
      "source": [
        "### Downloading `viral.1.1.genomic.fna.gz` from NCBI"
      ]
    },
    {
      "cell_type": "code",
      "execution_count": 5,
      "metadata": {
        "colab": {
          "base_uri": "https://localhost:8080/"
        },
        "id": "Dy0i_Sl6-Anl",
        "outputId": "37fbd773-fd51-421b-d081-a7702b9e2a50"
      },
      "outputs": [
        {
          "output_type": "stream",
          "name": "stdout",
          "text": [
            "--2024-05-15 06:29:04--  https://ftp.ncbi.nlm.nih.gov/refseq/release/viral/viral.1.1.genomic.fna.gz\n",
            "Resolving ftp.ncbi.nlm.nih.gov (ftp.ncbi.nlm.nih.gov)... 130.14.250.7, 130.14.250.10, 2607:f220:41e:250::10, ...\n",
            "Connecting to ftp.ncbi.nlm.nih.gov (ftp.ncbi.nlm.nih.gov)|130.14.250.7|:443... connected.\n",
            "HTTP request sent, awaiting response... 200 OK\n",
            "Length: 168654208 (161M) [application/x-gzip]\n",
            "Saving to: ‘/content/viral-ncbi/viral.1.1.genomic.fna.gz’\n",
            "\n",
            "viral.1.1.genomic.f 100%[===================>] 160.84M  40.8MB/s    in 4.9s    \n",
            "\n",
            "2024-05-15 06:29:09 (32.8 MB/s) - ‘/content/viral-ncbi/viral.1.1.genomic.fna.gz’ saved [168654208/168654208]\n",
            "\n"
          ]
        }
      ],
      "source": [
        "!wget https://ftp.ncbi.nlm.nih.gov/refseq/release/viral/viral.1.1.genomic.fna.gz -P /content/viral-ncbi/"
      ]
    },
    {
      "cell_type": "code",
      "execution_count": 6,
      "metadata": {
        "id": "zrvJx0_W-c-b"
      },
      "outputs": [],
      "source": [
        "!gunzip /content/viral-ncbi/viral.1.1.genomic.fna.gz"
      ]
    },
    {
      "cell_type": "code",
      "execution_count": 7,
      "metadata": {
        "colab": {
          "base_uri": "https://localhost:8080/"
        },
        "id": "FZkm1I0Ry2vg",
        "outputId": "bf5f1031-1f1d-4156-9b4c-fe84f6db7c5e"
      },
      "outputs": [
        {
          "output_type": "stream",
          "name": "stdout",
          "text": [
            "Collecting biopython\n",
            "  Downloading biopython-1.83-cp310-cp310-manylinux_2_17_x86_64.manylinux2014_x86_64.whl (3.1 MB)\n",
            "\u001b[2K     \u001b[90m━━━━━━━━━━━━━━━━━━━━━━━━━━━━━━━━━━━━━━━━\u001b[0m \u001b[32m3.1/3.1 MB\u001b[0m \u001b[31m13.9 MB/s\u001b[0m eta \u001b[36m0:00:00\u001b[0m\n",
            "\u001b[?25hRequirement already satisfied: numpy in /usr/local/lib/python3.10/dist-packages (from biopython) (1.25.2)\n",
            "Installing collected packages: biopython\n",
            "Successfully installed biopython-1.83\n"
          ]
        }
      ],
      "source": [
        "!pip install biopython"
      ]
    },
    {
      "cell_type": "code",
      "execution_count": 8,
      "metadata": {
        "colab": {
          "base_uri": "https://localhost:8080/"
        },
        "id": "3iZM7cie-qSS",
        "outputId": "9b123673-8b63-4520-a807-4da0f2e3b999"
      },
      "outputs": [
        {
          "output_type": "execute_result",
          "data": {
            "text/plain": [
              "18723"
            ]
          },
          "metadata": {},
          "execution_count": 8
        }
      ],
      "source": [
        "from Bio import SeqIO\n",
        "\n",
        "# Path to the extracted FASTA file\n",
        "fasta_path = '/content/viral-ncbi/viral.1.1.genomic.fna'\n",
        "\n",
        "# Load the FASTA file using SeqIO.parse\n",
        "sequences = list(SeqIO.parse(fasta_path, \"fasta\"))\n",
        "len(sequences)"
      ]
    },
    {
      "cell_type": "markdown",
      "metadata": {
        "id": "O2x7FThzBUdX"
      },
      "source": [
        "Removing sequences which are not present in the `k2 viral` database:"
      ]
    },
    {
      "cell_type": "code",
      "execution_count": 9,
      "metadata": {
        "id": "9HNR4GfJBbXT"
      },
      "outputs": [],
      "source": [
        "k2_viral_ids = k2_viral_df['accession_id'].to_list()"
      ]
    },
    {
      "cell_type": "code",
      "execution_count": 10,
      "metadata": {
        "colab": {
          "base_uri": "https://localhost:8080/"
        },
        "id": "FRMHWFTx-1FL",
        "outputId": "187273cf-96c8-43d3-bfaf-9bfd63ba1825"
      },
      "outputs": [
        {
          "output_type": "stream",
          "name": "stdout",
          "text": [
            "18639\n",
            "[SeqRecord(seq=Seq('AGTAGTGATCTCCCCATAGTAAAAAAACCACAAGACATAACAAATAGTATCAAA...ACT'), id='NC_029549.1', name='NC_029549.1', description='NC_029549.1 High Plains wheat mosaic virus isolate Nebraska segment RNA 2, complete sequence', dbxrefs=[]), SeqRecord(seq=Seq('AGTAGTGATCTCCCAATTTAAAACACAAAACATAACATCGAATATTAGAATATA...ACT'), id='NC_029550.1', name='NC_029550.1', description='NC_029550.1 High Plains wheat mosaic emaravirus segment 3, complete sequence', dbxrefs=[]), SeqRecord(seq=Seq('AGTAGTGATCTCCCCAAATTTAAAACCACAAACCATAACAAACAATATAGAGAA...ACT'), id='NC_029551.1', name='NC_029551.1', description='NC_029551.1 High Plains wheat mosaic virus isolate Nebraska segment RNA 4, complete sequence', dbxrefs=[]), SeqRecord(seq=Seq('AGTAGTGATCTCCCTAAGTAAACCACAAACAATTTACAATCTATTAGAGAATCT...ACT'), id='NC_029552.1', name='NC_029552.1', description='NC_029552.1 High Plains wheat mosaic virus isolate Nebraska segment RNA 5, complete sequence', dbxrefs=[]), SeqRecord(seq=Seq('AGTAGTGATCTCCCAACTTAAAAACACAAGCCATAACAAACTATATTCAATCAA...ACT'), id='NC_029553.1', name='NC_029553.1', description='NC_029553.1 High Plains wheat mosaic virus isolate Nebraska segment RNA 6, complete sequence', dbxrefs=[]), SeqRecord(seq=Seq('AGTAGTGATCTCCCAAAGTAAACCACAAAAAGTAACATATCTTATAAGAAAATT...ACT'), id='NC_029570.1', name='NC_029570.1', description='NC_029570.1 High Plains wheat mosaic virus isolate Nebraska segment RNA 1, complete sequence', dbxrefs=[]), SeqRecord(seq=Seq('AGTAGTGATCTCCCAAACTTAAACAACAAAACATAACAAATCATATAGCTAATA...ACT'), id='NC_029554.1', name='NC_029554.1', description='NC_029554.1 High Plains wheat mosaic virus isolate Nebraska segment RNA 7, complete sequence', dbxrefs=[]), SeqRecord(seq=Seq('AGTAGTGATCTCCCTAAAATTAAAACCACAAACCATAACATCTCATTATAAAGT...ACT'), id='NC_029555.1', name='NC_029555.1', description='NC_029555.1 High Plains wheat mosaic virus isolate Nebraska segment RNA 8, complete sequence', dbxrefs=[]), SeqRecord(seq=Seq('AGTAGTGTTCTCCCATCAATGAAAAAATCTAACCACAAAACAACAAAAAACAGC...ACT'), id='NC_029558.1', name='NC_029558.1', description='NC_029558.1 Raspberry leaf blotch virus segment RNA2, complete genome', dbxrefs=[]), SeqRecord(seq=Seq('AGTAGTGTTCTCCCAATAAACTGACTATCTTACCAAAATCATTCCAAATTCCAA...ACT'), id='NC_029559.1', name='NC_029559.1', description='NC_029559.1 Raspberry leaf blotch virus segment RNA3, complete genome', dbxrefs=[])]\n"
          ]
        }
      ],
      "source": [
        "sequences = [seq_record for seq_record in sequences if seq_record.id in k2_viral_ids]\n",
        "print(len(sequences))\n",
        "print(sequences[:10])"
      ]
    },
    {
      "cell_type": "code",
      "execution_count": 11,
      "metadata": {
        "id": "TuQZxMzCGo73"
      },
      "outputs": [],
      "source": [
        "sequences = sorted(sequences, key=lambda x: x.id)"
      ]
    },
    {
      "cell_type": "markdown",
      "metadata": {
        "id": "_2pFxSkMEg20"
      },
      "source": [
        "Adding `seq` column to the `k2_viral_df`:"
      ]
    },
    {
      "cell_type": "code",
      "execution_count": 12,
      "metadata": {
        "id": "SLCaBev6F36s"
      },
      "outputs": [],
      "source": [
        "k2_viral_df['seq'] = [str(seq_record.seq) for seq_record in sequences]"
      ]
    },
    {
      "cell_type": "code",
      "execution_count": 13,
      "metadata": {
        "colab": {
          "base_uri": "https://localhost:8080/",
          "height": 206
        },
        "id": "PN971-8hG26M",
        "outputId": "91da1c12-8224-44c7-b415-43ce0170b05b"
      },
      "outputs": [
        {
          "output_type": "execute_result",
          "data": {
            "text/plain": [
              "      #Library                                      Sequence Name  \\\n",
              "15700    viral   >AC_000001.1 Ovine adenovirus A, complete genome   \n",
              "8372     viral  >AC_000002.1 Bovine adenovirus B, complete genome   \n",
              "1050     viral  >AC_000003.1 Canine adenovirus 1, complete genome   \n",
              "12390    viral    >AC_000004.1 Duck adenovirus A, complete genome   \n",
              "5103     viral  >AC_000005.1 Human mastadenovirus A, complete ...   \n",
              "\n",
              "                                                     URL accession_id  \\\n",
              "15700  ftp://ftp.ncbi.nlm.nih.gov//genomes/all/GCF/00...  AC_000001.1   \n",
              "8372   ftp://ftp.ncbi.nlm.nih.gov//genomes/all/GCF/00...  AC_000002.1   \n",
              "1050   ftp://ftp.ncbi.nlm.nih.gov//genomes/all/GCF/00...  AC_000003.1   \n",
              "12390  ftp://ftp.ncbi.nlm.nih.gov//genomes/all/GCF/00...  AC_000004.1   \n",
              "5103   ftp://ftp.ncbi.nlm.nih.gov//genomes/all/GCF/00...  AC_000005.1   \n",
              "\n",
              "                                                     seq  \n",
              "15700  CATCATCAATAATATACGGTGCATTTTGTGCGTGATGACGTATACA...  \n",
              "8372   CATCATCAATAATCTACAGTACACTGATGGCAGCGGTCCAACTGCC...  \n",
              "1050   CATCATCAATAATATACAGGACAAAGAGGTGTGGCCTAAATGTTGT...  \n",
              "12390  CTCATGTCATTAATAAGACCATGCAGAAAATGCAAATGAGGCGAAG...  \n",
              "5103   CCTATCTAATAATATACCTTATACTGGACTAGTGCCAATATTAAAA...  "
            ],
            "text/html": [
              "\n",
              "  <div id=\"df-90f107d1-95e4-4f20-be64-35f1d5f114c4\" class=\"colab-df-container\">\n",
              "    <div>\n",
              "<style scoped>\n",
              "    .dataframe tbody tr th:only-of-type {\n",
              "        vertical-align: middle;\n",
              "    }\n",
              "\n",
              "    .dataframe tbody tr th {\n",
              "        vertical-align: top;\n",
              "    }\n",
              "\n",
              "    .dataframe thead th {\n",
              "        text-align: right;\n",
              "    }\n",
              "</style>\n",
              "<table border=\"1\" class=\"dataframe\">\n",
              "  <thead>\n",
              "    <tr style=\"text-align: right;\">\n",
              "      <th></th>\n",
              "      <th>#Library</th>\n",
              "      <th>Sequence Name</th>\n",
              "      <th>URL</th>\n",
              "      <th>accession_id</th>\n",
              "      <th>seq</th>\n",
              "    </tr>\n",
              "  </thead>\n",
              "  <tbody>\n",
              "    <tr>\n",
              "      <th>15700</th>\n",
              "      <td>viral</td>\n",
              "      <td>&gt;AC_000001.1 Ovine adenovirus A, complete genome</td>\n",
              "      <td>ftp://ftp.ncbi.nlm.nih.gov//genomes/all/GCF/00...</td>\n",
              "      <td>AC_000001.1</td>\n",
              "      <td>CATCATCAATAATATACGGTGCATTTTGTGCGTGATGACGTATACA...</td>\n",
              "    </tr>\n",
              "    <tr>\n",
              "      <th>8372</th>\n",
              "      <td>viral</td>\n",
              "      <td>&gt;AC_000002.1 Bovine adenovirus B, complete genome</td>\n",
              "      <td>ftp://ftp.ncbi.nlm.nih.gov//genomes/all/GCF/00...</td>\n",
              "      <td>AC_000002.1</td>\n",
              "      <td>CATCATCAATAATCTACAGTACACTGATGGCAGCGGTCCAACTGCC...</td>\n",
              "    </tr>\n",
              "    <tr>\n",
              "      <th>1050</th>\n",
              "      <td>viral</td>\n",
              "      <td>&gt;AC_000003.1 Canine adenovirus 1, complete genome</td>\n",
              "      <td>ftp://ftp.ncbi.nlm.nih.gov//genomes/all/GCF/00...</td>\n",
              "      <td>AC_000003.1</td>\n",
              "      <td>CATCATCAATAATATACAGGACAAAGAGGTGTGGCCTAAATGTTGT...</td>\n",
              "    </tr>\n",
              "    <tr>\n",
              "      <th>12390</th>\n",
              "      <td>viral</td>\n",
              "      <td>&gt;AC_000004.1 Duck adenovirus A, complete genome</td>\n",
              "      <td>ftp://ftp.ncbi.nlm.nih.gov//genomes/all/GCF/00...</td>\n",
              "      <td>AC_000004.1</td>\n",
              "      <td>CTCATGTCATTAATAAGACCATGCAGAAAATGCAAATGAGGCGAAG...</td>\n",
              "    </tr>\n",
              "    <tr>\n",
              "      <th>5103</th>\n",
              "      <td>viral</td>\n",
              "      <td>&gt;AC_000005.1 Human mastadenovirus A, complete ...</td>\n",
              "      <td>ftp://ftp.ncbi.nlm.nih.gov//genomes/all/GCF/00...</td>\n",
              "      <td>AC_000005.1</td>\n",
              "      <td>CCTATCTAATAATATACCTTATACTGGACTAGTGCCAATATTAAAA...</td>\n",
              "    </tr>\n",
              "  </tbody>\n",
              "</table>\n",
              "</div>\n",
              "    <div class=\"colab-df-buttons\">\n",
              "\n",
              "  <div class=\"colab-df-container\">\n",
              "    <button class=\"colab-df-convert\" onclick=\"convertToInteractive('df-90f107d1-95e4-4f20-be64-35f1d5f114c4')\"\n",
              "            title=\"Convert this dataframe to an interactive table.\"\n",
              "            style=\"display:none;\">\n",
              "\n",
              "  <svg xmlns=\"http://www.w3.org/2000/svg\" height=\"24px\" viewBox=\"0 -960 960 960\">\n",
              "    <path d=\"M120-120v-720h720v720H120Zm60-500h600v-160H180v160Zm220 220h160v-160H400v160Zm0 220h160v-160H400v160ZM180-400h160v-160H180v160Zm440 0h160v-160H620v160ZM180-180h160v-160H180v160Zm440 0h160v-160H620v160Z\"/>\n",
              "  </svg>\n",
              "    </button>\n",
              "\n",
              "  <style>\n",
              "    .colab-df-container {\n",
              "      display:flex;\n",
              "      gap: 12px;\n",
              "    }\n",
              "\n",
              "    .colab-df-convert {\n",
              "      background-color: #E8F0FE;\n",
              "      border: none;\n",
              "      border-radius: 50%;\n",
              "      cursor: pointer;\n",
              "      display: none;\n",
              "      fill: #1967D2;\n",
              "      height: 32px;\n",
              "      padding: 0 0 0 0;\n",
              "      width: 32px;\n",
              "    }\n",
              "\n",
              "    .colab-df-convert:hover {\n",
              "      background-color: #E2EBFA;\n",
              "      box-shadow: 0px 1px 2px rgba(60, 64, 67, 0.3), 0px 1px 3px 1px rgba(60, 64, 67, 0.15);\n",
              "      fill: #174EA6;\n",
              "    }\n",
              "\n",
              "    .colab-df-buttons div {\n",
              "      margin-bottom: 4px;\n",
              "    }\n",
              "\n",
              "    [theme=dark] .colab-df-convert {\n",
              "      background-color: #3B4455;\n",
              "      fill: #D2E3FC;\n",
              "    }\n",
              "\n",
              "    [theme=dark] .colab-df-convert:hover {\n",
              "      background-color: #434B5C;\n",
              "      box-shadow: 0px 1px 3px 1px rgba(0, 0, 0, 0.15);\n",
              "      filter: drop-shadow(0px 1px 2px rgba(0, 0, 0, 0.3));\n",
              "      fill: #FFFFFF;\n",
              "    }\n",
              "  </style>\n",
              "\n",
              "    <script>\n",
              "      const buttonEl =\n",
              "        document.querySelector('#df-90f107d1-95e4-4f20-be64-35f1d5f114c4 button.colab-df-convert');\n",
              "      buttonEl.style.display =\n",
              "        google.colab.kernel.accessAllowed ? 'block' : 'none';\n",
              "\n",
              "      async function convertToInteractive(key) {\n",
              "        const element = document.querySelector('#df-90f107d1-95e4-4f20-be64-35f1d5f114c4');\n",
              "        const dataTable =\n",
              "          await google.colab.kernel.invokeFunction('convertToInteractive',\n",
              "                                                    [key], {});\n",
              "        if (!dataTable) return;\n",
              "\n",
              "        const docLinkHtml = 'Like what you see? Visit the ' +\n",
              "          '<a target=\"_blank\" href=https://colab.research.google.com/notebooks/data_table.ipynb>data table notebook</a>'\n",
              "          + ' to learn more about interactive tables.';\n",
              "        element.innerHTML = '';\n",
              "        dataTable['output_type'] = 'display_data';\n",
              "        await google.colab.output.renderOutput(dataTable, element);\n",
              "        const docLink = document.createElement('div');\n",
              "        docLink.innerHTML = docLinkHtml;\n",
              "        element.appendChild(docLink);\n",
              "      }\n",
              "    </script>\n",
              "  </div>\n",
              "\n",
              "\n",
              "<div id=\"df-0db79fd5-f0ba-4134-9d30-49dae3fcb2a8\">\n",
              "  <button class=\"colab-df-quickchart\" onclick=\"quickchart('df-0db79fd5-f0ba-4134-9d30-49dae3fcb2a8')\"\n",
              "            title=\"Suggest charts\"\n",
              "            style=\"display:none;\">\n",
              "\n",
              "<svg xmlns=\"http://www.w3.org/2000/svg\" height=\"24px\"viewBox=\"0 0 24 24\"\n",
              "     width=\"24px\">\n",
              "    <g>\n",
              "        <path d=\"M19 3H5c-1.1 0-2 .9-2 2v14c0 1.1.9 2 2 2h14c1.1 0 2-.9 2-2V5c0-1.1-.9-2-2-2zM9 17H7v-7h2v7zm4 0h-2V7h2v10zm4 0h-2v-4h2v4z\"/>\n",
              "    </g>\n",
              "</svg>\n",
              "  </button>\n",
              "\n",
              "<style>\n",
              "  .colab-df-quickchart {\n",
              "      --bg-color: #E8F0FE;\n",
              "      --fill-color: #1967D2;\n",
              "      --hover-bg-color: #E2EBFA;\n",
              "      --hover-fill-color: #174EA6;\n",
              "      --disabled-fill-color: #AAA;\n",
              "      --disabled-bg-color: #DDD;\n",
              "  }\n",
              "\n",
              "  [theme=dark] .colab-df-quickchart {\n",
              "      --bg-color: #3B4455;\n",
              "      --fill-color: #D2E3FC;\n",
              "      --hover-bg-color: #434B5C;\n",
              "      --hover-fill-color: #FFFFFF;\n",
              "      --disabled-bg-color: #3B4455;\n",
              "      --disabled-fill-color: #666;\n",
              "  }\n",
              "\n",
              "  .colab-df-quickchart {\n",
              "    background-color: var(--bg-color);\n",
              "    border: none;\n",
              "    border-radius: 50%;\n",
              "    cursor: pointer;\n",
              "    display: none;\n",
              "    fill: var(--fill-color);\n",
              "    height: 32px;\n",
              "    padding: 0;\n",
              "    width: 32px;\n",
              "  }\n",
              "\n",
              "  .colab-df-quickchart:hover {\n",
              "    background-color: var(--hover-bg-color);\n",
              "    box-shadow: 0 1px 2px rgba(60, 64, 67, 0.3), 0 1px 3px 1px rgba(60, 64, 67, 0.15);\n",
              "    fill: var(--button-hover-fill-color);\n",
              "  }\n",
              "\n",
              "  .colab-df-quickchart-complete:disabled,\n",
              "  .colab-df-quickchart-complete:disabled:hover {\n",
              "    background-color: var(--disabled-bg-color);\n",
              "    fill: var(--disabled-fill-color);\n",
              "    box-shadow: none;\n",
              "  }\n",
              "\n",
              "  .colab-df-spinner {\n",
              "    border: 2px solid var(--fill-color);\n",
              "    border-color: transparent;\n",
              "    border-bottom-color: var(--fill-color);\n",
              "    animation:\n",
              "      spin 1s steps(1) infinite;\n",
              "  }\n",
              "\n",
              "  @keyframes spin {\n",
              "    0% {\n",
              "      border-color: transparent;\n",
              "      border-bottom-color: var(--fill-color);\n",
              "      border-left-color: var(--fill-color);\n",
              "    }\n",
              "    20% {\n",
              "      border-color: transparent;\n",
              "      border-left-color: var(--fill-color);\n",
              "      border-top-color: var(--fill-color);\n",
              "    }\n",
              "    30% {\n",
              "      border-color: transparent;\n",
              "      border-left-color: var(--fill-color);\n",
              "      border-top-color: var(--fill-color);\n",
              "      border-right-color: var(--fill-color);\n",
              "    }\n",
              "    40% {\n",
              "      border-color: transparent;\n",
              "      border-right-color: var(--fill-color);\n",
              "      border-top-color: var(--fill-color);\n",
              "    }\n",
              "    60% {\n",
              "      border-color: transparent;\n",
              "      border-right-color: var(--fill-color);\n",
              "    }\n",
              "    80% {\n",
              "      border-color: transparent;\n",
              "      border-right-color: var(--fill-color);\n",
              "      border-bottom-color: var(--fill-color);\n",
              "    }\n",
              "    90% {\n",
              "      border-color: transparent;\n",
              "      border-bottom-color: var(--fill-color);\n",
              "    }\n",
              "  }\n",
              "</style>\n",
              "\n",
              "  <script>\n",
              "    async function quickchart(key) {\n",
              "      const quickchartButtonEl =\n",
              "        document.querySelector('#' + key + ' button');\n",
              "      quickchartButtonEl.disabled = true;  // To prevent multiple clicks.\n",
              "      quickchartButtonEl.classList.add('colab-df-spinner');\n",
              "      try {\n",
              "        const charts = await google.colab.kernel.invokeFunction(\n",
              "            'suggestCharts', [key], {});\n",
              "      } catch (error) {\n",
              "        console.error('Error during call to suggestCharts:', error);\n",
              "      }\n",
              "      quickchartButtonEl.classList.remove('colab-df-spinner');\n",
              "      quickchartButtonEl.classList.add('colab-df-quickchart-complete');\n",
              "    }\n",
              "    (() => {\n",
              "      let quickchartButtonEl =\n",
              "        document.querySelector('#df-0db79fd5-f0ba-4134-9d30-49dae3fcb2a8 button');\n",
              "      quickchartButtonEl.style.display =\n",
              "        google.colab.kernel.accessAllowed ? 'block' : 'none';\n",
              "    })();\n",
              "  </script>\n",
              "</div>\n",
              "    </div>\n",
              "  </div>\n"
            ],
            "application/vnd.google.colaboratory.intrinsic+json": {
              "type": "dataframe",
              "variable_name": "k2_viral_df",
              "summary": "{\n  \"name\": \"k2_viral_df\",\n  \"rows\": 18639,\n  \"fields\": [\n    {\n      \"column\": \"#Library\",\n      \"properties\": {\n        \"dtype\": \"category\",\n        \"num_unique_values\": 1,\n        \"samples\": [\n          \"viral\"\n        ],\n        \"semantic_type\": \"\",\n        \"description\": \"\"\n      }\n    },\n    {\n      \"column\": \"Sequence Name\",\n      \"properties\": {\n        \"dtype\": \"string\",\n        \"num_unique_values\": 18639,\n        \"samples\": [\n          \">NC_026016.1 Staphylococcus phage phiBU01, complete genome\"\n        ],\n        \"semantic_type\": \"\",\n        \"description\": \"\"\n      }\n    },\n    {\n      \"column\": \"URL\",\n      \"properties\": {\n        \"dtype\": \"string\",\n        \"num_unique_values\": 14972,\n        \"samples\": [\n          \"ftp://ftp.ncbi.nlm.nih.gov//genomes/all/GCF/008/221/585/GCF_008221585.1_ASM822158v1/GCF_008221585.1_ASM822158v1_genomic.fna.gz\"\n        ],\n        \"semantic_type\": \"\",\n        \"description\": \"\"\n      }\n    },\n    {\n      \"column\": \"accession_id\",\n      \"properties\": {\n        \"dtype\": \"string\",\n        \"num_unique_values\": 18639,\n        \"samples\": [\n          \"NC_026016.1\"\n        ],\n        \"semantic_type\": \"\",\n        \"description\": \"\"\n      }\n    },\n    {\n      \"column\": \"seq\",\n      \"properties\": {\n        \"dtype\": \"string\",\n        \"num_unique_values\": 18620,\n        \"samples\": [\n          \"CATTATTACCCTGGTCACTTCGGACCTTGGACCATAAAAACTCTGATTATGCCAAAATTAAGTGATAATCGTGTTGTAAACTACGTTTTCACGTGGAATAACTATACCGATGATGTGAAAGCATTCATCGGTAACTTCGCCAACGACTATTGCAAATGGTTGGTGTATGGCGAAGAAGTCGGGGCATCTGGTACGCCCCATCTGCAAGGATGCTTTTCTTTGTATGATAAGAAACGCATCACCCAGCTATGTAAGCTGGGTTTTAAGGCTCATCTTGAGCCTATGAAAGGATCGCCTAAACAGGCGATTGCTTATTGTAAGAAAGATGGATCATTTACGGAACTTGGTGACGTTACGCGAGGTCAAGGCGAGCGTAATGATCTTAAACGAGCTTGCGAGTTGATCAAGGAGGGTAAGAGCATTAGCGAGGTTGCTGATGCTTGCCCTACTACGTATGTGAAGTACTCTCGTGGGCTTCGTGAGCTAGCTCTCGTAGCATCCGAGGCCTACGAACATGAATCAGTTCGTGGCGTCTGGATATATGGACAGACGGGTGTCGGTAAGTCACACCTTGCGCGTGACGTTTATCCCAACCTCTTTGACAAGTCTCAGTCAAAGTGGTGGGATGGGTACTGTAATGAACATACAGTACTCATTGATGATCTGGATACTGACTGTCTTGGACATTATCTTAAGCGATGGGCTGATAAGTACGCTTGTACCGGTGAGACTAAAGGCGGTACTATTAAACTACAACACCGTGTGTTTGTAGTAACTAGTAACTACCTTCCGTGGGAGTTACATAAAGACGATCTTATGGCTGAAGCCATTAGTCGTCGATTCACGATCTATCATAAAGAGACTCGTGATCAAAAGCTTGAAGATTGTGAAGTTTTAACGTATGCTGATAGGCATAATATTATTTAAATTTAAATATTTTGAATTTAAATCTCTCCTATTTTTCTTATAGTCCCAACCTCTACGGCAACATTGAGGAGAAAATCCGGTAGGATTTTTGACGAGGCAAAGCGACTCCTCTAGAGGCGCAACTACTAGCCCCCGGCGCACCAGACGTTCATATCGTCCGTCCTCGGTACGTATGTACGTGCTGGCTCGGTATCAAGTTTTTTGGGCTCGGTGTCAAGTTTCTACGTGATAATATCCGTAGATATAAGTATTAAAAAAGTGGTCCGAAGAGATGACCAGGTTT\"\n        ],\n        \"semantic_type\": \"\",\n        \"description\": \"\"\n      }\n    }\n  ]\n}"
            }
          },
          "metadata": {},
          "execution_count": 13
        }
      ],
      "source": [
        "k2_viral_df.head()"
      ]
    },
    {
      "cell_type": "markdown",
      "metadata": {
        "id": "qlVM-RruDkpb"
      },
      "source": [
        "# Downloading the taxonomy tree"
      ]
    },
    {
      "cell_type": "code",
      "execution_count": 14,
      "metadata": {
        "colab": {
          "base_uri": "https://localhost:8080/"
        },
        "id": "Buvxx0u9DnMa",
        "outputId": "2bc3fe60-9799-4b47-a2b6-6072a2f49b13"
      },
      "outputs": [
        {
          "output_type": "stream",
          "name": "stdout",
          "text": [
            "--2024-05-15 06:29:49--  ftp://ftp.ncbi.nlm.nih.gov/pub/taxonomy/taxdump.tar.gz\n",
            "           => ‘taxdump.tar.gz’\n",
            "Resolving ftp.ncbi.nlm.nih.gov (ftp.ncbi.nlm.nih.gov)... 130.14.250.7, 130.14.250.10, 2607:f220:41e:250::10, ...\n",
            "Connecting to ftp.ncbi.nlm.nih.gov (ftp.ncbi.nlm.nih.gov)|130.14.250.7|:21... connected.\n",
            "Logging in as anonymous ... Logged in!\n",
            "==> SYST ... done.    ==> PWD ... done.\n",
            "==> TYPE I ... done.  ==> CWD (1) /pub/taxonomy ... done.\n",
            "==> SIZE taxdump.tar.gz ... 65188445\n",
            "==> PASV ... done.    ==> RETR taxdump.tar.gz ... done.\n",
            "Length: 65188445 (62M) (unauthoritative)\n",
            "\n",
            "taxdump.tar.gz      100%[===================>]  62.17M  34.6MB/s    in 1.8s    \n",
            "\n",
            "2024-05-15 06:29:52 (34.6 MB/s) - ‘taxdump.tar.gz’ saved [65188445]\n",
            "\n",
            "names.dmp\n",
            "nodes.dmp\n"
          ]
        }
      ],
      "source": [
        "!wget ftp://ftp.ncbi.nlm.nih.gov/pub/taxonomy/taxdump.tar.gz\n",
        "!tar -xzvf taxdump.tar.gz nodes.dmp names.dmp"
      ]
    },
    {
      "cell_type": "markdown",
      "metadata": {
        "id": "sikpKhh3K57l"
      },
      "source": [
        "Use the given `taxonomy` module to load the tree. You can refer to the `https://github.com/frallain/NCBI_taxonomy_tree` to see more details about this module and how to work with:"
      ]
    },
    {
      "cell_type": "code",
      "execution_count": 15,
      "metadata": {
        "colab": {
          "base_uri": "https://localhost:8080/"
        },
        "id": "mYShdEbSvdkJ",
        "outputId": "8323bbae-c8e9-482d-d09d-662caea9fef5"
      },
      "outputs": [
        {
          "output_type": "stream",
          "name": "stdout",
          "text": [
            "Mounted at /content/gdrive\n"
          ]
        }
      ],
      "source": [
        "from google.colab import drive\n",
        "drive.mount('/content/gdrive')"
      ]
    },
    {
      "cell_type": "code",
      "execution_count": 16,
      "metadata": {
        "id": "D0dmoJvzHN_2"
      },
      "outputs": [],
      "source": [
        "from gdrive.MyDrive.taxonomy import NcbiTaxonomyTree\n",
        "\n",
        "taxonomy_tree = NcbiTaxonomyTree(nodes_filename=\"./nodes.dmp\", names_filename=\"./names.dmp\")"
      ]
    },
    {
      "cell_type": "markdown",
      "metadata": {
        "id": "fbLd0i5wKJmq"
      },
      "source": [
        "## `accession_id` to `tax_id` mapping"
      ]
    },
    {
      "cell_type": "markdown",
      "metadata": {
        "id": "4L7mdJuheuWb"
      },
      "source": [
        "As you probably noticed, the taxonomy tree uses `tax_id` to identify the nodes. However, the `k2_viral_df` uses `accession_id` to identify the genomes. We need to create a mapping between these two identifiers."
      ]
    },
    {
      "cell_type": "markdown",
      "metadata": {
        "id": "wt_HSOergOE7"
      },
      "source": [
        "The cell below may take a while to run!"
      ]
    },
    {
      "cell_type": "code",
      "execution_count": 17,
      "metadata": {
        "colab": {
          "base_uri": "https://localhost:8080/"
        },
        "id": "C5hWn0n2KNkQ",
        "outputId": "c8d9f765-aaa4-4d88-92d1-208eb41ba33f"
      },
      "outputs": [
        {
          "output_type": "stream",
          "name": "stdout",
          "text": [
            "--2024-05-15 07:10:16--  ftp://ftp.ncbi.nih.gov/pub/taxonomy/accession2taxid/nucl_gb.accession2taxid.gz\n",
            "           => ‘nucl_gb.accession2taxid.gz’\n",
            "Resolving ftp.ncbi.nih.gov (ftp.ncbi.nih.gov)... 130.14.250.12, 130.14.250.13, 2607:f220:41e:250::12, ...\n",
            "Connecting to ftp.ncbi.nih.gov (ftp.ncbi.nih.gov)|130.14.250.12|:21... connected.\n",
            "Logging in as anonymous ... Logged in!\n",
            "==> SYST ... done.    ==> PWD ... done.\n",
            "==> TYPE I ... done.  ==> CWD (1) /pub/taxonomy/accession2taxid ... done.\n",
            "==> SIZE nucl_gb.accession2taxid.gz ... 2409502166\n",
            "==> PASV ... done.    ==> RETR nucl_gb.accession2taxid.gz ... done.\n",
            "Length: 2409502166 (2.2G) (unauthoritative)\n",
            "\n",
            "nucl_gb.accession2t 100%[===================>]   2.24G  42.0MB/s    in 55s     \n",
            "\n",
            "2024-05-15 07:11:12 (41.9 MB/s) - ‘nucl_gb.accession2taxid.gz’ saved [2409502166]\n",
            "\n"
          ]
        }
      ],
      "source": [
        "!wget ftp://ftp.ncbi.nih.gov/pub/taxonomy/accession2taxid/nucl_gb.accession2taxid.gz\n",
        "!gunzip -f nucl_gb.accession2taxid.gz"
      ]
    },
    {
      "cell_type": "code",
      "execution_count": 18,
      "metadata": {
        "id": "Vnn_8PqPQMBm"
      },
      "outputs": [],
      "source": [
        "accession_list = k2_viral_df['accession_id'].to_list()\n",
        "\n",
        "with open('accession_list.txt', 'w') as file:\n",
        "    for accession in accession_list:\n",
        "        file.write(accession + '\\n')"
      ]
    },
    {
      "cell_type": "markdown",
      "metadata": {
        "id": "i0oS2EIheuWb"
      },
      "source": [
        "The cell below may take a while to run!"
      ]
    },
    {
      "cell_type": "code",
      "execution_count": 19,
      "metadata": {
        "id": "9dgTokc8P_3U"
      },
      "outputs": [],
      "source": [
        "!grep -F -f accession_list.txt nucl_gb.accession2taxid > filtered_accession2taxid.txt"
      ]
    },
    {
      "cell_type": "code",
      "execution_count": 20,
      "metadata": {
        "colab": {
          "base_uri": "https://localhost:8080/"
        },
        "id": "lIjPfe24KfnN",
        "outputId": "270c17d1-ef07-413e-cd96-fbabcd326703"
      },
      "outputs": [
        {
          "output_type": "stream",
          "name": "stderr",
          "text": [
            "100%|██████████| 18639/18639 [00:00<00:00, 651735.53it/s]\n"
          ]
        }
      ],
      "source": [
        "from tqdm import tqdm\n",
        "\n",
        "def parse_accession_to_taxid(filename):\n",
        "    accession_to_taxid = {}\n",
        "    with open(filename, 'r') as file:\n",
        "        for line in tqdm(file, total=18639):\n",
        "            parts = line.strip().split('\\t')\n",
        "            accession = parts[1]\n",
        "            taxid = parts[2]\n",
        "            accession_to_taxid[accession] = taxid\n",
        "    return accession_to_taxid\n",
        "\n",
        "accession_tax_mapping = parse_accession_to_taxid('filtered_accession2taxid.txt')"
      ]
    },
    {
      "cell_type": "code",
      "execution_count": 21,
      "metadata": {
        "id": "fErotAinRNjL"
      },
      "outputs": [],
      "source": [
        "accession_tax_mapping = dict(sorted(accession_tax_mapping.items()))\n",
        "\n",
        "k2_viral_df['tax_id'] = accession_tax_mapping.values()"
      ]
    },
    {
      "cell_type": "code",
      "execution_count": 22,
      "metadata": {
        "colab": {
          "base_uri": "https://localhost:8080/",
          "height": 206
        },
        "id": "nuCE3Qxcil6T",
        "outputId": "10b8e476-982c-4624-c4b0-3e3290d7c120"
      },
      "outputs": [
        {
          "output_type": "execute_result",
          "data": {
            "text/plain": [
              "      #Library                                      Sequence Name  \\\n",
              "15700    viral   >AC_000001.1 Ovine adenovirus A, complete genome   \n",
              "8372     viral  >AC_000002.1 Bovine adenovirus B, complete genome   \n",
              "1050     viral  >AC_000003.1 Canine adenovirus 1, complete genome   \n",
              "12390    viral    >AC_000004.1 Duck adenovirus A, complete genome   \n",
              "5103     viral  >AC_000005.1 Human mastadenovirus A, complete ...   \n",
              "\n",
              "                                                     URL accession_id  \\\n",
              "15700  ftp://ftp.ncbi.nlm.nih.gov//genomes/all/GCF/00...  AC_000001.1   \n",
              "8372   ftp://ftp.ncbi.nlm.nih.gov//genomes/all/GCF/00...  AC_000002.1   \n",
              "1050   ftp://ftp.ncbi.nlm.nih.gov//genomes/all/GCF/00...  AC_000003.1   \n",
              "12390  ftp://ftp.ncbi.nlm.nih.gov//genomes/all/GCF/00...  AC_000004.1   \n",
              "5103   ftp://ftp.ncbi.nlm.nih.gov//genomes/all/GCF/00...  AC_000005.1   \n",
              "\n",
              "                                                     seq  tax_id  \n",
              "15700  CATCATCAATAATATACGGTGCATTTTGTGCGTGATGACGTATACA...  114424  \n",
              "8372   CATCATCAATAATCTACAGTACACTGATGGCAGCGGTCCAACTGCC...  129950  \n",
              "1050   CATCATCAATAATATACAGGACAAAGAGGTGTGGCCTAAATGTTGT...   10512  \n",
              "12390  CTCATGTCATTAATAAGACCATGCAGAAAATGCAAATGAGGCGAAG...  130328  \n",
              "5103   CCTATCTAATAATATACCTTATACTGGACTAGTGCCAATATTAAAA...  129875  "
            ],
            "text/html": [
              "\n",
              "  <div id=\"df-838f7a3d-35f0-44eb-a9a1-853d31c1faf4\" class=\"colab-df-container\">\n",
              "    <div>\n",
              "<style scoped>\n",
              "    .dataframe tbody tr th:only-of-type {\n",
              "        vertical-align: middle;\n",
              "    }\n",
              "\n",
              "    .dataframe tbody tr th {\n",
              "        vertical-align: top;\n",
              "    }\n",
              "\n",
              "    .dataframe thead th {\n",
              "        text-align: right;\n",
              "    }\n",
              "</style>\n",
              "<table border=\"1\" class=\"dataframe\">\n",
              "  <thead>\n",
              "    <tr style=\"text-align: right;\">\n",
              "      <th></th>\n",
              "      <th>#Library</th>\n",
              "      <th>Sequence Name</th>\n",
              "      <th>URL</th>\n",
              "      <th>accession_id</th>\n",
              "      <th>seq</th>\n",
              "      <th>tax_id</th>\n",
              "    </tr>\n",
              "  </thead>\n",
              "  <tbody>\n",
              "    <tr>\n",
              "      <th>15700</th>\n",
              "      <td>viral</td>\n",
              "      <td>&gt;AC_000001.1 Ovine adenovirus A, complete genome</td>\n",
              "      <td>ftp://ftp.ncbi.nlm.nih.gov//genomes/all/GCF/00...</td>\n",
              "      <td>AC_000001.1</td>\n",
              "      <td>CATCATCAATAATATACGGTGCATTTTGTGCGTGATGACGTATACA...</td>\n",
              "      <td>114424</td>\n",
              "    </tr>\n",
              "    <tr>\n",
              "      <th>8372</th>\n",
              "      <td>viral</td>\n",
              "      <td>&gt;AC_000002.1 Bovine adenovirus B, complete genome</td>\n",
              "      <td>ftp://ftp.ncbi.nlm.nih.gov//genomes/all/GCF/00...</td>\n",
              "      <td>AC_000002.1</td>\n",
              "      <td>CATCATCAATAATCTACAGTACACTGATGGCAGCGGTCCAACTGCC...</td>\n",
              "      <td>129950</td>\n",
              "    </tr>\n",
              "    <tr>\n",
              "      <th>1050</th>\n",
              "      <td>viral</td>\n",
              "      <td>&gt;AC_000003.1 Canine adenovirus 1, complete genome</td>\n",
              "      <td>ftp://ftp.ncbi.nlm.nih.gov//genomes/all/GCF/00...</td>\n",
              "      <td>AC_000003.1</td>\n",
              "      <td>CATCATCAATAATATACAGGACAAAGAGGTGTGGCCTAAATGTTGT...</td>\n",
              "      <td>10512</td>\n",
              "    </tr>\n",
              "    <tr>\n",
              "      <th>12390</th>\n",
              "      <td>viral</td>\n",
              "      <td>&gt;AC_000004.1 Duck adenovirus A, complete genome</td>\n",
              "      <td>ftp://ftp.ncbi.nlm.nih.gov//genomes/all/GCF/00...</td>\n",
              "      <td>AC_000004.1</td>\n",
              "      <td>CTCATGTCATTAATAAGACCATGCAGAAAATGCAAATGAGGCGAAG...</td>\n",
              "      <td>130328</td>\n",
              "    </tr>\n",
              "    <tr>\n",
              "      <th>5103</th>\n",
              "      <td>viral</td>\n",
              "      <td>&gt;AC_000005.1 Human mastadenovirus A, complete ...</td>\n",
              "      <td>ftp://ftp.ncbi.nlm.nih.gov//genomes/all/GCF/00...</td>\n",
              "      <td>AC_000005.1</td>\n",
              "      <td>CCTATCTAATAATATACCTTATACTGGACTAGTGCCAATATTAAAA...</td>\n",
              "      <td>129875</td>\n",
              "    </tr>\n",
              "  </tbody>\n",
              "</table>\n",
              "</div>\n",
              "    <div class=\"colab-df-buttons\">\n",
              "\n",
              "  <div class=\"colab-df-container\">\n",
              "    <button class=\"colab-df-convert\" onclick=\"convertToInteractive('df-838f7a3d-35f0-44eb-a9a1-853d31c1faf4')\"\n",
              "            title=\"Convert this dataframe to an interactive table.\"\n",
              "            style=\"display:none;\">\n",
              "\n",
              "  <svg xmlns=\"http://www.w3.org/2000/svg\" height=\"24px\" viewBox=\"0 -960 960 960\">\n",
              "    <path d=\"M120-120v-720h720v720H120Zm60-500h600v-160H180v160Zm220 220h160v-160H400v160Zm0 220h160v-160H400v160ZM180-400h160v-160H180v160Zm440 0h160v-160H620v160ZM180-180h160v-160H180v160Zm440 0h160v-160H620v160Z\"/>\n",
              "  </svg>\n",
              "    </button>\n",
              "\n",
              "  <style>\n",
              "    .colab-df-container {\n",
              "      display:flex;\n",
              "      gap: 12px;\n",
              "    }\n",
              "\n",
              "    .colab-df-convert {\n",
              "      background-color: #E8F0FE;\n",
              "      border: none;\n",
              "      border-radius: 50%;\n",
              "      cursor: pointer;\n",
              "      display: none;\n",
              "      fill: #1967D2;\n",
              "      height: 32px;\n",
              "      padding: 0 0 0 0;\n",
              "      width: 32px;\n",
              "    }\n",
              "\n",
              "    .colab-df-convert:hover {\n",
              "      background-color: #E2EBFA;\n",
              "      box-shadow: 0px 1px 2px rgba(60, 64, 67, 0.3), 0px 1px 3px 1px rgba(60, 64, 67, 0.15);\n",
              "      fill: #174EA6;\n",
              "    }\n",
              "\n",
              "    .colab-df-buttons div {\n",
              "      margin-bottom: 4px;\n",
              "    }\n",
              "\n",
              "    [theme=dark] .colab-df-convert {\n",
              "      background-color: #3B4455;\n",
              "      fill: #D2E3FC;\n",
              "    }\n",
              "\n",
              "    [theme=dark] .colab-df-convert:hover {\n",
              "      background-color: #434B5C;\n",
              "      box-shadow: 0px 1px 3px 1px rgba(0, 0, 0, 0.15);\n",
              "      filter: drop-shadow(0px 1px 2px rgba(0, 0, 0, 0.3));\n",
              "      fill: #FFFFFF;\n",
              "    }\n",
              "  </style>\n",
              "\n",
              "    <script>\n",
              "      const buttonEl =\n",
              "        document.querySelector('#df-838f7a3d-35f0-44eb-a9a1-853d31c1faf4 button.colab-df-convert');\n",
              "      buttonEl.style.display =\n",
              "        google.colab.kernel.accessAllowed ? 'block' : 'none';\n",
              "\n",
              "      async function convertToInteractive(key) {\n",
              "        const element = document.querySelector('#df-838f7a3d-35f0-44eb-a9a1-853d31c1faf4');\n",
              "        const dataTable =\n",
              "          await google.colab.kernel.invokeFunction('convertToInteractive',\n",
              "                                                    [key], {});\n",
              "        if (!dataTable) return;\n",
              "\n",
              "        const docLinkHtml = 'Like what you see? Visit the ' +\n",
              "          '<a target=\"_blank\" href=https://colab.research.google.com/notebooks/data_table.ipynb>data table notebook</a>'\n",
              "          + ' to learn more about interactive tables.';\n",
              "        element.innerHTML = '';\n",
              "        dataTable['output_type'] = 'display_data';\n",
              "        await google.colab.output.renderOutput(dataTable, element);\n",
              "        const docLink = document.createElement('div');\n",
              "        docLink.innerHTML = docLinkHtml;\n",
              "        element.appendChild(docLink);\n",
              "      }\n",
              "    </script>\n",
              "  </div>\n",
              "\n",
              "\n",
              "<div id=\"df-204bec05-f3cb-4315-808c-ca2c6c792b5d\">\n",
              "  <button class=\"colab-df-quickchart\" onclick=\"quickchart('df-204bec05-f3cb-4315-808c-ca2c6c792b5d')\"\n",
              "            title=\"Suggest charts\"\n",
              "            style=\"display:none;\">\n",
              "\n",
              "<svg xmlns=\"http://www.w3.org/2000/svg\" height=\"24px\"viewBox=\"0 0 24 24\"\n",
              "     width=\"24px\">\n",
              "    <g>\n",
              "        <path d=\"M19 3H5c-1.1 0-2 .9-2 2v14c0 1.1.9 2 2 2h14c1.1 0 2-.9 2-2V5c0-1.1-.9-2-2-2zM9 17H7v-7h2v7zm4 0h-2V7h2v10zm4 0h-2v-4h2v4z\"/>\n",
              "    </g>\n",
              "</svg>\n",
              "  </button>\n",
              "\n",
              "<style>\n",
              "  .colab-df-quickchart {\n",
              "      --bg-color: #E8F0FE;\n",
              "      --fill-color: #1967D2;\n",
              "      --hover-bg-color: #E2EBFA;\n",
              "      --hover-fill-color: #174EA6;\n",
              "      --disabled-fill-color: #AAA;\n",
              "      --disabled-bg-color: #DDD;\n",
              "  }\n",
              "\n",
              "  [theme=dark] .colab-df-quickchart {\n",
              "      --bg-color: #3B4455;\n",
              "      --fill-color: #D2E3FC;\n",
              "      --hover-bg-color: #434B5C;\n",
              "      --hover-fill-color: #FFFFFF;\n",
              "      --disabled-bg-color: #3B4455;\n",
              "      --disabled-fill-color: #666;\n",
              "  }\n",
              "\n",
              "  .colab-df-quickchart {\n",
              "    background-color: var(--bg-color);\n",
              "    border: none;\n",
              "    border-radius: 50%;\n",
              "    cursor: pointer;\n",
              "    display: none;\n",
              "    fill: var(--fill-color);\n",
              "    height: 32px;\n",
              "    padding: 0;\n",
              "    width: 32px;\n",
              "  }\n",
              "\n",
              "  .colab-df-quickchart:hover {\n",
              "    background-color: var(--hover-bg-color);\n",
              "    box-shadow: 0 1px 2px rgba(60, 64, 67, 0.3), 0 1px 3px 1px rgba(60, 64, 67, 0.15);\n",
              "    fill: var(--button-hover-fill-color);\n",
              "  }\n",
              "\n",
              "  .colab-df-quickchart-complete:disabled,\n",
              "  .colab-df-quickchart-complete:disabled:hover {\n",
              "    background-color: var(--disabled-bg-color);\n",
              "    fill: var(--disabled-fill-color);\n",
              "    box-shadow: none;\n",
              "  }\n",
              "\n",
              "  .colab-df-spinner {\n",
              "    border: 2px solid var(--fill-color);\n",
              "    border-color: transparent;\n",
              "    border-bottom-color: var(--fill-color);\n",
              "    animation:\n",
              "      spin 1s steps(1) infinite;\n",
              "  }\n",
              "\n",
              "  @keyframes spin {\n",
              "    0% {\n",
              "      border-color: transparent;\n",
              "      border-bottom-color: var(--fill-color);\n",
              "      border-left-color: var(--fill-color);\n",
              "    }\n",
              "    20% {\n",
              "      border-color: transparent;\n",
              "      border-left-color: var(--fill-color);\n",
              "      border-top-color: var(--fill-color);\n",
              "    }\n",
              "    30% {\n",
              "      border-color: transparent;\n",
              "      border-left-color: var(--fill-color);\n",
              "      border-top-color: var(--fill-color);\n",
              "      border-right-color: var(--fill-color);\n",
              "    }\n",
              "    40% {\n",
              "      border-color: transparent;\n",
              "      border-right-color: var(--fill-color);\n",
              "      border-top-color: var(--fill-color);\n",
              "    }\n",
              "    60% {\n",
              "      border-color: transparent;\n",
              "      border-right-color: var(--fill-color);\n",
              "    }\n",
              "    80% {\n",
              "      border-color: transparent;\n",
              "      border-right-color: var(--fill-color);\n",
              "      border-bottom-color: var(--fill-color);\n",
              "    }\n",
              "    90% {\n",
              "      border-color: transparent;\n",
              "      border-bottom-color: var(--fill-color);\n",
              "    }\n",
              "  }\n",
              "</style>\n",
              "\n",
              "  <script>\n",
              "    async function quickchart(key) {\n",
              "      const quickchartButtonEl =\n",
              "        document.querySelector('#' + key + ' button');\n",
              "      quickchartButtonEl.disabled = true;  // To prevent multiple clicks.\n",
              "      quickchartButtonEl.classList.add('colab-df-spinner');\n",
              "      try {\n",
              "        const charts = await google.colab.kernel.invokeFunction(\n",
              "            'suggestCharts', [key], {});\n",
              "      } catch (error) {\n",
              "        console.error('Error during call to suggestCharts:', error);\n",
              "      }\n",
              "      quickchartButtonEl.classList.remove('colab-df-spinner');\n",
              "      quickchartButtonEl.classList.add('colab-df-quickchart-complete');\n",
              "    }\n",
              "    (() => {\n",
              "      let quickchartButtonEl =\n",
              "        document.querySelector('#df-204bec05-f3cb-4315-808c-ca2c6c792b5d button');\n",
              "      quickchartButtonEl.style.display =\n",
              "        google.colab.kernel.accessAllowed ? 'block' : 'none';\n",
              "    })();\n",
              "  </script>\n",
              "</div>\n",
              "    </div>\n",
              "  </div>\n"
            ],
            "application/vnd.google.colaboratory.intrinsic+json": {
              "type": "dataframe",
              "variable_name": "k2_viral_df",
              "summary": "{\n  \"name\": \"k2_viral_df\",\n  \"rows\": 18639,\n  \"fields\": [\n    {\n      \"column\": \"#Library\",\n      \"properties\": {\n        \"dtype\": \"category\",\n        \"num_unique_values\": 1,\n        \"samples\": [\n          \"viral\"\n        ],\n        \"semantic_type\": \"\",\n        \"description\": \"\"\n      }\n    },\n    {\n      \"column\": \"Sequence Name\",\n      \"properties\": {\n        \"dtype\": \"string\",\n        \"num_unique_values\": 18639,\n        \"samples\": [\n          \">NC_026016.1 Staphylococcus phage phiBU01, complete genome\"\n        ],\n        \"semantic_type\": \"\",\n        \"description\": \"\"\n      }\n    },\n    {\n      \"column\": \"URL\",\n      \"properties\": {\n        \"dtype\": \"string\",\n        \"num_unique_values\": 14972,\n        \"samples\": [\n          \"ftp://ftp.ncbi.nlm.nih.gov//genomes/all/GCF/008/221/585/GCF_008221585.1_ASM822158v1/GCF_008221585.1_ASM822158v1_genomic.fna.gz\"\n        ],\n        \"semantic_type\": \"\",\n        \"description\": \"\"\n      }\n    },\n    {\n      \"column\": \"accession_id\",\n      \"properties\": {\n        \"dtype\": \"string\",\n        \"num_unique_values\": 18639,\n        \"samples\": [\n          \"NC_026016.1\"\n        ],\n        \"semantic_type\": \"\",\n        \"description\": \"\"\n      }\n    },\n    {\n      \"column\": \"seq\",\n      \"properties\": {\n        \"dtype\": \"string\",\n        \"num_unique_values\": 18620,\n        \"samples\": [\n          \"CATTATTACCCTGGTCACTTCGGACCTTGGACCATAAAAACTCTGATTATGCCAAAATTAAGTGATAATCGTGTTGTAAACTACGTTTTCACGTGGAATAACTATACCGATGATGTGAAAGCATTCATCGGTAACTTCGCCAACGACTATTGCAAATGGTTGGTGTATGGCGAAGAAGTCGGGGCATCTGGTACGCCCCATCTGCAAGGATGCTTTTCTTTGTATGATAAGAAACGCATCACCCAGCTATGTAAGCTGGGTTTTAAGGCTCATCTTGAGCCTATGAAAGGATCGCCTAAACAGGCGATTGCTTATTGTAAGAAAGATGGATCATTTACGGAACTTGGTGACGTTACGCGAGGTCAAGGCGAGCGTAATGATCTTAAACGAGCTTGCGAGTTGATCAAGGAGGGTAAGAGCATTAGCGAGGTTGCTGATGCTTGCCCTACTACGTATGTGAAGTACTCTCGTGGGCTTCGTGAGCTAGCTCTCGTAGCATCCGAGGCCTACGAACATGAATCAGTTCGTGGCGTCTGGATATATGGACAGACGGGTGTCGGTAAGTCACACCTTGCGCGTGACGTTTATCCCAACCTCTTTGACAAGTCTCAGTCAAAGTGGTGGGATGGGTACTGTAATGAACATACAGTACTCATTGATGATCTGGATACTGACTGTCTTGGACATTATCTTAAGCGATGGGCTGATAAGTACGCTTGTACCGGTGAGACTAAAGGCGGTACTATTAAACTACAACACCGTGTGTTTGTAGTAACTAGTAACTACCTTCCGTGGGAGTTACATAAAGACGATCTTATGGCTGAAGCCATTAGTCGTCGATTCACGATCTATCATAAAGAGACTCGTGATCAAAAGCTTGAAGATTGTGAAGTTTTAACGTATGCTGATAGGCATAATATTATTTAAATTTAAATATTTTGAATTTAAATCTCTCCTATTTTTCTTATAGTCCCAACCTCTACGGCAACATTGAGGAGAAAATCCGGTAGGATTTTTGACGAGGCAAAGCGACTCCTCTAGAGGCGCAACTACTAGCCCCCGGCGCACCAGACGTTCATATCGTCCGTCCTCGGTACGTATGTACGTGCTGGCTCGGTATCAAGTTTTTTGGGCTCGGTGTCAAGTTTCTACGTGATAATATCCGTAGATATAAGTATTAAAAAAGTGGTCCGAAGAGATGACCAGGTTT\"\n        ],\n        \"semantic_type\": \"\",\n        \"description\": \"\"\n      }\n    },\n    {\n      \"column\": \"tax_id\",\n      \"properties\": {\n        \"dtype\": \"string\",\n        \"num_unique_values\": 14489,\n        \"samples\": [\n          \"2922212\"\n        ],\n        \"semantic_type\": \"\",\n        \"description\": \"\"\n      }\n    }\n  ]\n}"
            }
          },
          "metadata": {},
          "execution_count": 22
        }
      ],
      "source": [
        "k2_viral_df.head()"
      ]
    },
    {
      "cell_type": "markdown",
      "metadata": {
        "id": "1hmIwNsLxrmG"
      },
      "source": [
        "# SimpleKraken"
      ]
    },
    {
      "cell_type": "markdown",
      "metadata": {
        "id": "melACdgheuWc"
      },
      "source": [
        "We strongly recommend you to read the **Kraken** paper before you start implementing the **SimpleKraken** algorithm. You can find the paper [here](https://genomebiology.biomedcentral.com/articles/10.1186/gb-2014-15-3-r46)."
      ]
    },
    {
      "cell_type": "markdown",
      "metadata": {
        "id": "Tc1uFY8gxrmG"
      },
      "source": [
        "## 1. Extracting K-mers"
      ]
    },
    {
      "cell_type": "markdown",
      "metadata": {
        "id": "lipzu7x_xrmG"
      },
      "source": [
        "Kraken uses Jellyfish to extract k-mers from the reference database. You can read the exact implementation details in the Kraken paper. In this tutorial, we will use a simplified version of the k-mer extraction process."
      ]
    },
    {
      "cell_type": "code",
      "execution_count": 23,
      "metadata": {
        "id": "zv-X5ThjxrmG"
      },
      "outputs": [],
      "source": [
        "from collections import Counter\n",
        "def extract_kmers(sequence, k):\n",
        "    # TODO: implement a simple function that extracts all k-mers from the given sequence\n",
        "    kmers = []\n",
        "    for i in range(len(sequence) - k + 1):\n",
        "        kmers.append(sequence[i : i + k])\n",
        "    return Counter(kmers)"
      ]
    },
    {
      "cell_type": "markdown",
      "metadata": {
        "id": "klp3YNBUxrmG"
      },
      "source": [
        "## 2. Building The Database\n",
        "\n",
        "Calculate the number of appearances of each k-mer in the given set of genomes, and only keep k-mers that appear more than a threshold `t`.\n"
      ]
    },
    {
      "cell_type": "markdown",
      "metadata": {
        "id": "D13Znj82BFtA"
      },
      "source": [
        "You can use the `Jellyfish` to calculate the number of appearances of the k-mers efficiently:"
      ]
    },
    {
      "cell_type": "code",
      "execution_count": 24,
      "metadata": {
        "colab": {
          "base_uri": "https://localhost:8080/"
        },
        "id": "ihvrkkcFfdTf",
        "outputId": "4b0f17fd-49ba-469a-dcfd-e7049050d13f"
      },
      "outputs": [
        {
          "output_type": "stream",
          "name": "stdout",
          "text": [
            "Reading package lists... Done\n",
            "Building dependency tree... Done\n",
            "Reading state information... Done\n",
            "The following additional packages will be installed:\n",
            "  libhts3 libhtscodecs2 libjellyfish-2.0-2\n",
            "The following NEW packages will be installed:\n",
            "  jellyfish libhts3 libhtscodecs2 libjellyfish-2.0-2\n",
            "0 upgraded, 4 newly installed, 0 to remove and 45 not upgraded.\n",
            "Need to get 1,283 kB of archives.\n",
            "After this operation, 3,550 kB of additional disk space will be used.\n",
            "Get:1 http://archive.ubuntu.com/ubuntu jammy/universe amd64 libhtscodecs2 amd64 1.1.1-3 [53.2 kB]\n",
            "Get:2 http://archive.ubuntu.com/ubuntu jammy/universe amd64 libhts3 amd64 1.13+ds-2build1 [390 kB]\n",
            "Get:3 http://archive.ubuntu.com/ubuntu jammy/universe amd64 libjellyfish-2.0-2 amd64 2.3.0-12ubuntu2 [65.0 kB]\n",
            "Get:4 http://archive.ubuntu.com/ubuntu jammy/universe amd64 jellyfish amd64 2.3.0-12ubuntu2 [775 kB]\n",
            "Fetched 1,283 kB in 4s (312 kB/s)\n",
            "Selecting previously unselected package libhtscodecs2:amd64.\n",
            "(Reading database ... 121918 files and directories currently installed.)\n",
            "Preparing to unpack .../libhtscodecs2_1.1.1-3_amd64.deb ...\n",
            "Unpacking libhtscodecs2:amd64 (1.1.1-3) ...\n",
            "Selecting previously unselected package libhts3:amd64.\n",
            "Preparing to unpack .../libhts3_1.13+ds-2build1_amd64.deb ...\n",
            "Unpacking libhts3:amd64 (1.13+ds-2build1) ...\n",
            "Selecting previously unselected package libjellyfish-2.0-2:amd64.\n",
            "Preparing to unpack .../libjellyfish-2.0-2_2.3.0-12ubuntu2_amd64.deb ...\n",
            "Unpacking libjellyfish-2.0-2:amd64 (2.3.0-12ubuntu2) ...\n",
            "Selecting previously unselected package jellyfish.\n",
            "Preparing to unpack .../jellyfish_2.3.0-12ubuntu2_amd64.deb ...\n",
            "Unpacking jellyfish (2.3.0-12ubuntu2) ...\n",
            "Setting up libhtscodecs2:amd64 (1.1.1-3) ...\n",
            "Setting up libhts3:amd64 (1.13+ds-2build1) ...\n",
            "Setting up libjellyfish-2.0-2:amd64 (2.3.0-12ubuntu2) ...\n",
            "Setting up jellyfish (2.3.0-12ubuntu2) ...\n",
            "Processing triggers for man-db (2.10.2-1) ...\n",
            "Processing triggers for libc-bin (2.35-0ubuntu3.4) ...\n",
            "/sbin/ldconfig.real: /usr/local/lib/libtbbbind_2_5.so.3 is not a symbolic link\n",
            "\n",
            "/sbin/ldconfig.real: /usr/local/lib/libtbbmalloc.so.2 is not a symbolic link\n",
            "\n",
            "/sbin/ldconfig.real: /usr/local/lib/libtbbbind.so.3 is not a symbolic link\n",
            "\n",
            "/sbin/ldconfig.real: /usr/local/lib/libtbbmalloc_proxy.so.2 is not a symbolic link\n",
            "\n",
            "/sbin/ldconfig.real: /usr/local/lib/libtbb.so.12 is not a symbolic link\n",
            "\n",
            "/sbin/ldconfig.real: /usr/local/lib/libtbbbind_2_0.so.3 is not a symbolic link\n",
            "\n"
          ]
        }
      ],
      "source": [
        "!apt install jellyfish"
      ]
    },
    {
      "cell_type": "code",
      "execution_count": 25,
      "metadata": {
        "id": "NfLgfOAq4xmc"
      },
      "outputs": [],
      "source": [
        "k2_viral_df[\"seq\"] = k2_viral_df[\"seq\"].apply(lambda x: x.strip().upper())\n",
        "k2_viral_df[\"tax_id\"] = k2_viral_df[\"tax_id\"].apply(lambda x: int(x.strip()))\n",
        "\n",
        "viral_smaple = k2_viral_df.sample(n=1000, random_state=42)\n",
        "test_sample = k2_viral_df.sample(n=100, random_state=2021)\n",
        "\n",
        "with open('viral_smaple.fasta', 'w') as f:\n",
        "    for index, row in viral_smaple.iterrows():\n",
        "        f.write(\">seq_\" + str(index) + \"\\n\" + row['seq'] + \"\\n\")"
      ]
    },
    {
      "cell_type": "code",
      "execution_count": 26,
      "metadata": {
        "id": "dSPQxnCJxUio"
      },
      "outputs": [],
      "source": [
        "viral_smaple.to_excel(\"viral_smaple.xlsx\")\n",
        "test_sample.to_excel(\"test_sample.xlsx\")"
      ]
    },
    {
      "cell_type": "code",
      "execution_count": 27,
      "metadata": {
        "id": "QVA1-zvo6xyL"
      },
      "outputs": [],
      "source": [
        "del k2_viral_df\n",
        "del accession_tax_mapping\n",
        "del accession_list\n",
        "del sequences"
      ]
    },
    {
      "cell_type": "code",
      "source": [
        "K = 31\n",
        "mini_len = 7"
      ],
      "metadata": {
        "id": "NWPaGb8L6ZNy"
      },
      "execution_count": 28,
      "outputs": []
    },
    {
      "cell_type": "markdown",
      "metadata": {
        "id": "MJCFvbyhBY1L"
      },
      "source": [
        "Run the `jellyfish` with the proper arguments:"
      ]
    },
    {
      "cell_type": "code",
      "execution_count": 29,
      "metadata": {
        "id": "GCCbVOSxf5Jx"
      },
      "outputs": [],
      "source": [
        "!jellyfish count -m 31 -o viral_output.jf -c 3 -s 10000000 -t 50 viral_smaple.fasta"
      ]
    },
    {
      "cell_type": "code",
      "execution_count": 30,
      "metadata": {
        "id": "zmiolHC6TXKO"
      },
      "outputs": [],
      "source": [
        "!jellyfish dump -L 10 viral_output.jf > viral_dump.fa"
      ]
    },
    {
      "cell_type": "markdown",
      "metadata": {
        "id": "nraRZc_aBmSe"
      },
      "source": [
        "Parse the result file to get a list of suitable k-mers:"
      ]
    },
    {
      "cell_type": "code",
      "execution_count": 31,
      "metadata": {
        "id": "72pQEQWkB0Yd"
      },
      "outputs": [],
      "source": [
        "with open('viral_dump.fa','r') as f:\n",
        "    kmers = f.read()\n",
        "\n",
        "filtered_kmers = []\n",
        "for i, line in enumerate(kmers.split(\"\\n\")):\n",
        "    if i % 2 == 0:\n",
        "        try:\n",
        "            count = int(line[1:].strip())\n",
        "        except ValueError:\n",
        "            count = 0\n",
        "    if i % 2 == 1:\n",
        "        if count > 10:\n",
        "            filtered_kmers.append(line.upper())"
      ]
    },
    {
      "cell_type": "code",
      "execution_count": 32,
      "metadata": {
        "colab": {
          "base_uri": "https://localhost:8080/"
        },
        "id": "MsMmsU-x9p7j",
        "outputId": "25ce448b-5f91-4f09-97a9-0e611a93dba6"
      },
      "outputs": [
        {
          "output_type": "stream",
          "name": "stdout",
          "text": [
            "['AAAAAAAAAAAAAAAAAAAAAAAAAAAAAAA', 'TGAAAGCCAAAATCTATCGAAAATAACTTTA', 'CGTATGTCTGGGCGTGCTAGTCGTGCGTAGC', 'TACTTTTAGATCTAAACTGAAAGCCAAAATC', 'CCGTATGTCTGGGCGTGCTAGTCGTGCGTAG', 'AAGTGCCCGAGCCTGTGCCAAGTTTTCCTAA', 'TGCCCGGTCCTGGAGCCCGGGGCCGGGGGCC', 'CACGACTAGCACGCCCAGACATACGGTAAAA', 'TAAAATTTGACATCAACGATAAATTAATTTG', 'TTTGACATCAACGATAAATTAATTTGGTAGA', 'CAGCAGCAGCAGCAGCAGCAGCAGCAGCAGC', 'GAGCCCCGGCAGCACCCCAGGAGCCCCGGCA', 'CGGGTGCCCCTGGGTCCGCTGCCCCGCTCCG', 'ACCAGGCCGGCCGGAGGGACCCCGGCAGCCC', 'TTTTTTGAAAACTGAAAATTATTTTTTACCG', 'ACTGAAAATTATTTTTTACCGTATGTCTGGG', 'TGTGCCAAGTTTTCCTAACCACTAATGATAA', 'TTTTAGATCTAAACTGAAAGCCAAAATCTAT', 'AATCTATCGAAAATAACTTTACTTTTAGATC', 'AGTGTTTGAGTGTTTGAGTGTTTGAGTGTTT', 'TTTTCAAAAAAAGTGCCCGAGCCTGTGCCAA', 'CCTCCTCCCGCTCCTCCTCCCGCTCCTCCTC', 'CAGCGGCTGCCCAATCGTCGGATATTCAAAA', 'ATATTCAAAAACCCAGCTATCAGTATCCAGC', 'TCCTCATCCTCATCCTCATCCTCATCCTCAT', 'GCCCGGGGCCGGGGGCCGGGTGCCCCTGGGT', 'TTTTGAAAACTGAAAATTATTTTTTACCGTA', 'GCTACGCACGACTAGCACGCCCAGACATACG', 'GTTTTCAAAAAAAGTGCCCGAGCCTGTGCCA', 'ACACACACACACACACACACACACACACACA', 'TCAGTTTTCAAAAAAAGTGCCCGAGCCTGTG', 'TCTATCGAAAATAACTTTACTTTTAGATCTA', 'CAGGAGCCCCGGCAGCACCCCAGGAGCCCCG', 'TATGTCTGGGCGTGCTAGTCGTGCGTAGCCT', 'CTTTACTTTTAGATCTAAACTGAAAGCCAAA', 'GTGCCCGAGCCTGTGCCAAGTTTTCCTAACC', 'GGAGCCCCGGCAGCACCCCAGGAGCCCCGGC', 'GGAGCCCGGGGCCGGGGGCCGGGTGCCCCTG', 'TACCGTATGTCTGGGCGTGCTAGTCGTGCGT', 'GCTATCAGTATCCAGCGGCTGCCCAATCGTC', 'GCCCAATCGTCGGATATTCAAAAACCCAGCT', 'CCTGGAGCCCGGGGCCGGGGGCCGGGTGCCC', 'TCTGGGCGTGCTAGTCGTGCGTAGCCTCTAC', 'GAAAACTTGGCACAGGCTCGGGCACTTTTTT', 'CCCAGGAGCCCCGGCAGCACCCCAGGAGCCC', 'CTTGGCACAGGCTCGGGCACTTTTTTTGAAA', 'AGCTATCAGTATCCAGCGGCTGCCCAATCGT', 'GTCCTGGAGCCCGGGGCCGGGGGCCGGGTGC', 'CCCCTGGGTCCGCTGCCCCGCTCCGGCGGGG', 'AGATCTAAACTGAAAGCCAAAATCTATCGAA', 'GCCGGCCGCTGCCGGGTCCGCTGCCCGGTCC', 'ATGTCTGGGCGTGCTAGTCGTGCGTAGCCTC', 'ACCCAGCTATCAGTATCCAGCGGCTGCCCAA', 'ATGGAGGTGATGGAGGTGATGGAGGTGATGG', 'CAAAAAAAGTGCCCGAGCCTGTGCCAAGTTT', 'GGGGGTGGCCGGCCGCTGCCGGGTCCGCTGC', 'AGCCAAAATCTATCGAAAATAACTTTACTTT', 'ATCGAAAATAACTTTACTTTTAGATCTAAAC', 'ACCAGAACCAGAACCAGAACCAGAACCAGAA', 'GTATGTCTGGGCGTGCTAGTCGTGCGTAGCC', 'ATCCTCATCCTCATCCTCATCCTCATCCTCA', 'AAAATTTGACATCAACGATAAATTAATTTGG', 'AACGCCAACGCCAACGCCAACGCCAACGCCA', 'CTATCAGTATCCAGCGGCTGCCCAATCGTCG', 'CTGGGCGTGCTAGTCGTGCGTAGCCTCTACC', 'GGCCGGGGGCCGGGTGCCCCTGGGTCCGCTG', 'TTTAGATCTAAACTGAAAGCCAAAATCTATC', 'CAGGCTCGGGCACTTTTTTTGAAAACTGAAA', 'TCCACCAGGCCGGCCGGAGGGACCCCGGCAG', 'AAATAACTTTACTTTTAGATCTAAACTGAAA', 'TCGAAAATAACTTTACTTTTAGATCTAAACT', 'AGGTGATGGAGGTGATGGAGGTGATGGAGGT', 'AGGCTCGGGCACTTTTTTTGAAAACTGAAAA', 'TGAAAACTGAAAATTATTTTTTACCGTATGT', 'GCTCCTCTAACTCCTGCTCCTGCTCCTCTAA', 'TTTATCACCTTTATCACCTTTATCACCTTTA', 'AGAACCAGAACCAGAACCAGAACCAGAACCA', 'TCCTCTAACTCCTGCTCCTGCTCCTCTAACT', 'CGCTCCTCCTCCCGCTCCTCCTCCCGCTCCT', 'TTTTTGAAAACTGAAAATTATTTTTTACCGT', 'TTTGGTAGAGGCTACGCACGACTAGCACGCC', 'AGTTTTCAAAAAAAGTGCCCGAGCCTGTGCC', 'ATATATATATATATATATATATATATATATA', 'GCACAGGCTCGGGCACTTTTTTTGAAAACTG', 'CCTCATCCTCATCCTCATCCTCATCCTCATC', 'GGTGGCCGGCCGCTGCCGGGTCCGCTGCCCG', 'GGGTGGCCGGCCGCTGCCGGGTCCGCTGCCC', 'TATTTTTTACCGTATGTCTGGGCGTGCTAGT', 'GCTGCCCGGTCCTGGAGCCCGGGGCCGGGGG', 'CGGTCCTGGAGCCCGGGGCCGGGGGCCGGGT', 'AGGAGCCCCGGCAGCACCCCAGGAGCCCCGG', 'ACTCCTGCTCCTGCTCCTCTAACTCCTGCTC', 'GGCACAGGCTCGGGCACTTTTTTTGAAAACT', 'CCGAGCCTGTGCCAAGTTTTCCTAACCACTA', 'CCAGGAGCCCCGGCAGCACCCCAGGAGCCCC', 'CCTGCTCCTCTAACTCCTGCTCCTGCTCCTC', 'GGCACTTTTTTTGAAAACTGAAAATTATTTT', 'GTGATGGAGGTGATGGAGGTGATGGAGGTGA', 'CAGGCCGGCCGGAGGGACCCCGGCAGCCCGG', 'TTATTATTATTATTATTATTATTATTATTAT']\n"
          ]
        }
      ],
      "source": [
        "print(filtered_kmers[:100])\n",
        "del kmers"
      ]
    },
    {
      "cell_type": "markdown",
      "metadata": {
        "id": "6I_nOTzoCA6V"
      },
      "source": [
        "Build a database (a `dict`) that assigns each k-mer in the `filtered_kmers` to a list of all genome IDs that have this k-mer:"
      ]
    },
    {
      "cell_type": "code",
      "execution_count": 33,
      "metadata": {
        "id": "tpsY5H0ZCdZ_"
      },
      "outputs": [],
      "source": [
        "def extract_kmers(sequence, k):\n",
        "    # TODO: implement a simple function that extracts all k-mers from the given sequence\n",
        "    if k >= len(sequence):\n",
        "        return {sequence: 1}\n",
        "    kmers = []\n",
        "    for i in range(len(sequence) - k + 1):\n",
        "        kmers.append(sequence[i : i + k])\n",
        "    return Counter(kmers)"
      ]
    },
    {
      "cell_type": "code",
      "execution_count": 34,
      "metadata": {
        "id": "QUYaoj62ZOmd"
      },
      "outputs": [],
      "source": [
        "def get_minimizer(kmer, mini_len=mini_len):\n",
        "    mnmzr = kmer[:mini_len]\n",
        "    for i in range(1, len(kmer) - mini_len + 1):\n",
        "        mnmzr = min(mnmzr, kmer[i: i + mini_len])\n",
        "    return mnmzr"
      ]
    },
    {
      "cell_type": "code",
      "execution_count": 35,
      "metadata": {
        "id": "gHPRY97FQmvC"
      },
      "outputs": [],
      "source": [
        "from collections import defaultdict\n",
        "\n",
        "\n",
        "def build_database(sequences, k):\n",
        "    global viral_sample, filtered_kmers\n",
        "    database = defaultdict(lambda: defaultdict(list))\n",
        "    # for km in filtered_kmers:\n",
        "    #     minimizer = get_minimizer(km)\n",
        "    # MiaSanMia\n",
        "    #     database[minimizer][km] = []\n",
        "    for index, row in tqdm(viral_smaple.iterrows()):\n",
        "        seq = row[\"seq\"]\n",
        "        species = row[\"tax_id\"]\n",
        "        kmers = extract_kmers(seq, k=k)\n",
        "        if seq is None or len(seq) == 0 or species is None:\n",
        "            continue\n",
        "        for km in kmers.keys():\n",
        "            minimizer = get_minimizer(km)\n",
        "            database[minimizer][km].append(species)\n",
        "    return database"
      ]
    },
    {
      "cell_type": "markdown",
      "metadata": {
        "id": "w5hPzwtZxrmG"
      },
      "source": [
        "## 3. Taxonomy tree and Lowest Common Ancestor (LCA)\n",
        "\n",
        "Using the database created in the previous step, and the given taxonomy tree, for each k-mer in the genomes, find the LCA of those genomes on the taxonomy tree. Create a dictionary for each internal node in the tree that contains the minimizer of the k-mer and maps it to the k-mer:\n",
        "\n",
        "$$node_i = \\{'minimizer1': 'k-mer'\\}$$"
      ]
    },
    {
      "cell_type": "code",
      "execution_count": 36,
      "metadata": {
        "colab": {
          "base_uri": "https://localhost:8080/"
        },
        "id": "gH11d2NfxrmH",
        "outputId": "76ed60b2-43e7-4a34-e23a-6963f2e956a5"
      },
      "outputs": [
        {
          "output_type": "stream",
          "name": "stderr",
          "text": [
            "1000it [08:07,  2.05it/s]\n"
          ]
        }
      ],
      "source": [
        "db = build_database(\"\", k=K)"
      ]
    },
    {
      "cell_type": "code",
      "execution_count": 37,
      "metadata": {
        "id": "0wtNARf3v2PH"
      },
      "outputs": [],
      "source": [
        "\n",
        "def lca(taxidlist):\n",
        "    global taxonomy_tree\n",
        "    ancestors = taxonomy_tree.getAscendantsWithRanksAndNames(taxidlist, only_std_ranks=False)\n",
        "    taxids = [[ancestor.taxid for ancestor in ancestors[node]][::-1] for node in taxidlist if not node is None]\n",
        "    ii = 0\n",
        "    lowestcommon = 1\n",
        "    while ii < min(30, min([len(ancestry) for ancestry in taxids])):\n",
        "        ithdads = [ancestry[ii] for ancestry in taxids]\n",
        "        if min(ithdads) != max(ithdads):\n",
        "            return lowestcommon\n",
        "        lowestcommon = ithdads[0]\n",
        "        ii += 1\n",
        "\n",
        "to_delete = []\n",
        "for minimizer in db.keys():\n",
        "    for kmer in db[minimizer].keys():\n",
        "        tax_ids = db[minimizer][kmer]\n",
        "        if len(tax_ids) > 1:\n",
        "            db[minimizer][kmer] = [lca(tax_ids)]\n",
        "        # To save us from None\n",
        "        if db[minimizer][kmer][0] is None:\n",
        "            to_delete.append((minimizer, kmer))\n",
        "for minimizer, kmer in to_delete:\n",
        "    del db[minimizer][kmer]\n"
      ]
    },
    {
      "cell_type": "markdown",
      "metadata": {
        "id": "1WblpeFexrmH"
      },
      "source": [
        "## 4. Scoring and Decision Making\n",
        "\n",
        "To search and score a given genome $g$ through the KDB, we first create the k-mers of the $g$, and then calculate their minimizers and count the number of sequential k-mers $s$ that have that minimizer. Then for each k-mer we search through KDB to find the candidate internal nodes that have the corresponding minimizer in their keys. Then we use exact match through those k-mer values to find the unique internal node and assigns the $s$ to that node. At the end we do a root to leaf traverse and aggregate the scores of parents to calculate leaf scores. The leaf with the highest score is the target.\n"
      ]
    },
    {
      "cell_type": "code",
      "execution_count": 38,
      "metadata": {
        "id": "aXcN45mLxrmH"
      },
      "outputs": [],
      "source": [
        "def find_genome_species(gnm, k):\n",
        "    global db, taxonomy_tree\n",
        "    score = defaultdict(int)\n",
        "    kmers = extract_kmers(gnm, k=k)\n",
        "    for km in kmers.keys():\n",
        "        minimizer = get_minimizer(km)\n",
        "        if len(db[minimizer][km]) > 0:\n",
        "            score[db[minimizer][km][0]] += kmers[km]\n",
        "    ancestors = taxonomy_tree.getAscendantsWithRanksAndNames(list(score.keys()), only_std_ranks=False)\n",
        "    taxids = {node: [ancestor.taxid for ancestor in ancestors[node]][::-1] for node in list(score.keys())}\n",
        "    for t_id in list(score.keys()):\n",
        "        for parent in taxids[t_id]:\n",
        "            score[t_id] += score[parent]\n",
        "    if len(list(score.keys())) == 0:\n",
        "        return -1\n",
        "    max_value = max(score.values())\n",
        "    candidates = [k for k, v in score.items() if v == max_value]\n",
        "    if len(candidates) > 1:\n",
        "        return lca(candidates)\n",
        "    return candidates[0]"
      ]
    },
    {
      "cell_type": "markdown",
      "metadata": {
        "id": "MgGUrLUH7m8c"
      },
      "source": [
        "# Evaluation\n",
        "\n",
        "Generate a few random genomes from the `k2_viral_df` and classify them using the `SimpleKraken` algorithm. Compare the result with the actual taxonomy of the genome.\n",
        "You can also use a read of a genome and mutate it (e.g. poisson mutation) to see how the algorithm performs in a more realistic scenario:"
      ]
    },
    {
      "cell_type": "code",
      "execution_count": 39,
      "metadata": {
        "id": "RVSQlGqO7m8c",
        "colab": {
          "base_uri": "https://localhost:8080/"
        },
        "outputId": "29744c5b-3c40-46d1-e762-7ff9dd0c06de"
      },
      "outputs": [
        {
          "output_type": "stream",
          "name": "stderr",
          "text": [
            "100it [00:35,  2.81it/s]\n"
          ]
        },
        {
          "output_type": "stream",
          "name": "stdout",
          "text": [
            "Accuracy: 5.0\n"
          ]
        }
      ],
      "source": [
        "import numpy as np\n",
        "\n",
        "correct = 0\n",
        "\n",
        "alles = test_sample.shape[0]\n",
        "for index, row in tqdm(test_sample.iterrows()):\n",
        "        seq = row[\"seq\"]\n",
        "        species = int(row[\"tax_id\"])\n",
        "\n",
        "        candidate = find_genome_species(seq, k=K)\n",
        "        if species == candidate:\n",
        "            correct += 1\n",
        "\n",
        "print(\"Accuracy:\", np.round(correct * 100 / alles, 2))"
      ]
    },
    {
      "cell_type": "code",
      "execution_count": 40,
      "metadata": {
        "id": "nSrGQPzaaw4U"
      },
      "outputs": [],
      "source": [
        "# import json\n",
        "# with open(\"db.json\",\"w\") as f:\n",
        "#     json.dump(db, f)"
      ]
    },
    {
      "cell_type": "markdown",
      "metadata": {
        "id": "QF7cP9STeuWd"
      },
      "source": [
        "# Bonus\n",
        "\n",
        "It's worth mentioning that you can use the `kraken2` tool to classify sequences using the database we downloaded in the first section. The `kraken2` tool is a more sophisticated implementation of the Kraken algorithm that uses a database structure optimized for fast and accurate classification of metagenomic sequences.\n",
        "\n",
        "I'll put a few cells below which will help you install the `kraken2` tool and you can play around with it to classify sequences using the downloaded database.\n",
        "\n",
        "You can find more information about the `kraken2` tool in the official [GitHub repository](https://github.com/DerrickWood/kraken2/wiki/Manual)."
      ]
    },
    {
      "cell_type": "markdown",
      "metadata": {
        "id": "JCad6skteuWe"
      },
      "source": [
        "NOTE: The session will be restarted after running the cell below:"
      ]
    },
    {
      "cell_type": "code",
      "execution_count": null,
      "metadata": {
        "id": "QSp8ahNgeuWe"
      },
      "outputs": [],
      "source": [
        "!pip install -q condacolab\n",
        "import condacolab\n",
        "condacolab.install()"
      ]
    },
    {
      "cell_type": "code",
      "execution_count": null,
      "metadata": {
        "id": "Wa1Jhq06euWe"
      },
      "outputs": [],
      "source": [
        "import condacolab\n",
        "condacolab.check()"
      ]
    },
    {
      "cell_type": "code",
      "execution_count": null,
      "metadata": {
        "id": "xnoEx7YseuWe"
      },
      "outputs": [],
      "source": [
        "!conda install bioconda::kraken2"
      ]
    },
    {
      "cell_type": "markdown",
      "metadata": {
        "id": "nFj6fN-reuWe"
      },
      "source": [
        "Now you can use the `kraken2`. Have fun!"
      ]
    }
  ],
  "metadata": {
    "colab": {
      "provenance": []
    },
    "kernelspec": {
      "display_name": "Python 3",
      "name": "python3"
    },
    "language_info": {
      "codemirror_mode": {
        "name": "ipython",
        "version": 3
      },
      "file_extension": ".py",
      "mimetype": "text/x-python",
      "name": "python",
      "nbconvert_exporter": "python",
      "pygments_lexer": "ipython3",
      "version": "3.10.8"
    }
  },
  "nbformat": 4,
  "nbformat_minor": 0
}