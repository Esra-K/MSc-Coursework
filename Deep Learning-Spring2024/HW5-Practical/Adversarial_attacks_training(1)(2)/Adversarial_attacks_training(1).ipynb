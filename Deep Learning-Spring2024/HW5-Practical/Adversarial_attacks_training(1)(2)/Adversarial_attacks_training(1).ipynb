{
  "cells": [
    {
      "cell_type": "markdown",
      "metadata": {
        "id": "qG_xY-kh0CO9"
      },
      "source": [
        "<center><h1>In the name of Allah</h1></center>"
      ]
    },
    {
      "cell_type": "markdown",
      "metadata": {
        "id": "KAWBuDJl0CO_"
      },
      "source": [
        "Name: Esra Kashaninia\n",
        "\n",
        "Student Number: 402210676"
      ]
    },
    {
      "cell_type": "markdown",
      "metadata": {
        "id": "hikO86fg0CPA"
      },
      "source": [
        "In this notebook, you will explore adversarial attacks and training methods in deep learning. First, you will train a simple model, ResNet18, on the CIFAR-10 dataset. Next, you will learn about two different adversarial attacks: FGSM (Fast Gradient Sign Method) and PGD (Projected Gradient Descent). To enhance your understanding, you will implement the PGD attack from scratch, while the FGSM attack will be implemented using a library. After this, you will use the FGSM attack to generate adversarial examples and then perform adversarial training on the model using the CIFAR-10 dataset. Finally, you will compare the performance and robustness of the adversarially trained model with the original model.\n",
        "\n",
        "Good luck!"
      ]
    },
    {
      "cell_type": "markdown",
      "metadata": {
        "id": "T3LQjVkT0CPA"
      },
      "source": [
        "## outline\n",
        "- Train Resnet on CIFAR10\n",
        "- FGSM Attack using torchattacks\n",
        "- PGD Attack from scratch\n",
        "- Visualization\n",
        "- Adversarial Training\n"
      ]
    },
    {
      "cell_type": "code",
      "execution_count": 1,
      "metadata": {
        "id": "lcad8Ls50CPB"
      },
      "outputs": [],
      "source": [
        "import torch\n",
        "import torchvision\n",
        "import torchvision.transforms as transforms\n",
        "from torchvision.models import resnet18\n",
        "import torch.nn as nn\n",
        "import torch.nn.functional as F\n",
        "import torch.optim as optim\n",
        "import numpy as np\n",
        "from torch.autograd import Variable\n",
        "from tqdm import tqdm"
      ]
    },
    {
      "cell_type": "code",
      "execution_count": 2,
      "metadata": {
        "colab": {
          "base_uri": "https://localhost:8080/"
        },
        "id": "8R_9Dp6K0CPC",
        "outputId": "cf2cf0d0-6c2c-4449-def5-dce0b5a05a76"
      },
      "outputs": [
        {
          "output_type": "stream",
          "name": "stdout",
          "text": [
            "cuda:0\n"
          ]
        }
      ],
      "source": [
        "device = 'cuda:0' if torch.cuda.is_available() else 'cpu'\n",
        "print(device)"
      ]
    },
    {
      "cell_type": "code",
      "execution_count": 3,
      "metadata": {
        "colab": {
          "base_uri": "https://localhost:8080/"
        },
        "id": "KGQY2ITK0ZIF",
        "outputId": "57a7d006-11d8-4909-b027-5834f295dff2"
      },
      "outputs": [
        {
          "output_type": "stream",
          "name": "stdout",
          "text": [
            "Requirement already satisfied: torchattacks in /usr/local/lib/python3.10/dist-packages (3.5.1)\n",
            "Requirement already satisfied: torch>=1.7.1 in /usr/local/lib/python3.10/dist-packages (from torchattacks) (2.3.0+cu121)\n",
            "Requirement already satisfied: torchvision>=0.8.2 in /usr/local/lib/python3.10/dist-packages (from torchattacks) (0.18.0+cu121)\n",
            "Requirement already satisfied: scipy>=0.14.0 in /usr/local/lib/python3.10/dist-packages (from torchattacks) (1.11.4)\n",
            "Requirement already satisfied: tqdm>=4.56.1 in /usr/local/lib/python3.10/dist-packages (from torchattacks) (4.66.4)\n",
            "Requirement already satisfied: requests~=2.25.1 in /usr/local/lib/python3.10/dist-packages (from torchattacks) (2.25.1)\n",
            "Requirement already satisfied: numpy>=1.19.4 in /usr/local/lib/python3.10/dist-packages (from torchattacks) (1.25.2)\n",
            "Requirement already satisfied: chardet<5,>=3.0.2 in /usr/local/lib/python3.10/dist-packages (from requests~=2.25.1->torchattacks) (4.0.0)\n",
            "Requirement already satisfied: idna<3,>=2.5 in /usr/local/lib/python3.10/dist-packages (from requests~=2.25.1->torchattacks) (2.10)\n",
            "Requirement already satisfied: urllib3<1.27,>=1.21.1 in /usr/local/lib/python3.10/dist-packages (from requests~=2.25.1->torchattacks) (1.26.19)\n",
            "Requirement already satisfied: certifi>=2017.4.17 in /usr/local/lib/python3.10/dist-packages (from requests~=2.25.1->torchattacks) (2024.6.2)\n",
            "Requirement already satisfied: filelock in /usr/local/lib/python3.10/dist-packages (from torch>=1.7.1->torchattacks) (3.15.3)\n",
            "Requirement already satisfied: typing-extensions>=4.8.0 in /usr/local/lib/python3.10/dist-packages (from torch>=1.7.1->torchattacks) (4.12.2)\n",
            "Requirement already satisfied: sympy in /usr/local/lib/python3.10/dist-packages (from torch>=1.7.1->torchattacks) (1.12.1)\n",
            "Requirement already satisfied: networkx in /usr/local/lib/python3.10/dist-packages (from torch>=1.7.1->torchattacks) (3.3)\n",
            "Requirement already satisfied: jinja2 in /usr/local/lib/python3.10/dist-packages (from torch>=1.7.1->torchattacks) (3.1.4)\n",
            "Requirement already satisfied: fsspec in /usr/local/lib/python3.10/dist-packages (from torch>=1.7.1->torchattacks) (2023.6.0)\n",
            "Requirement already satisfied: nvidia-cuda-nvrtc-cu12==12.1.105 in /usr/local/lib/python3.10/dist-packages (from torch>=1.7.1->torchattacks) (12.1.105)\n",
            "Requirement already satisfied: nvidia-cuda-runtime-cu12==12.1.105 in /usr/local/lib/python3.10/dist-packages (from torch>=1.7.1->torchattacks) (12.1.105)\n",
            "Requirement already satisfied: nvidia-cuda-cupti-cu12==12.1.105 in /usr/local/lib/python3.10/dist-packages (from torch>=1.7.1->torchattacks) (12.1.105)\n",
            "Requirement already satisfied: nvidia-cudnn-cu12==8.9.2.26 in /usr/local/lib/python3.10/dist-packages (from torch>=1.7.1->torchattacks) (8.9.2.26)\n",
            "Requirement already satisfied: nvidia-cublas-cu12==12.1.3.1 in /usr/local/lib/python3.10/dist-packages (from torch>=1.7.1->torchattacks) (12.1.3.1)\n",
            "Requirement already satisfied: nvidia-cufft-cu12==11.0.2.54 in /usr/local/lib/python3.10/dist-packages (from torch>=1.7.1->torchattacks) (11.0.2.54)\n",
            "Requirement already satisfied: nvidia-curand-cu12==10.3.2.106 in /usr/local/lib/python3.10/dist-packages (from torch>=1.7.1->torchattacks) (10.3.2.106)\n",
            "Requirement already satisfied: nvidia-cusolver-cu12==11.4.5.107 in /usr/local/lib/python3.10/dist-packages (from torch>=1.7.1->torchattacks) (11.4.5.107)\n",
            "Requirement already satisfied: nvidia-cusparse-cu12==12.1.0.106 in /usr/local/lib/python3.10/dist-packages (from torch>=1.7.1->torchattacks) (12.1.0.106)\n",
            "Requirement already satisfied: nvidia-nccl-cu12==2.20.5 in /usr/local/lib/python3.10/dist-packages (from torch>=1.7.1->torchattacks) (2.20.5)\n",
            "Requirement already satisfied: nvidia-nvtx-cu12==12.1.105 in /usr/local/lib/python3.10/dist-packages (from torch>=1.7.1->torchattacks) (12.1.105)\n",
            "Requirement already satisfied: triton==2.3.0 in /usr/local/lib/python3.10/dist-packages (from torch>=1.7.1->torchattacks) (2.3.0)\n",
            "Requirement already satisfied: nvidia-nvjitlink-cu12 in /usr/local/lib/python3.10/dist-packages (from nvidia-cusolver-cu12==11.4.5.107->torch>=1.7.1->torchattacks) (12.5.40)\n",
            "Requirement already satisfied: pillow!=8.3.*,>=5.3.0 in /usr/local/lib/python3.10/dist-packages (from torchvision>=0.8.2->torchattacks) (9.4.0)\n",
            "Requirement already satisfied: MarkupSafe>=2.0 in /usr/local/lib/python3.10/dist-packages (from jinja2->torch>=1.7.1->torchattacks) (2.1.5)\n",
            "Requirement already satisfied: mpmath<1.4.0,>=1.1.0 in /usr/local/lib/python3.10/dist-packages (from sympy->torch>=1.7.1->torchattacks) (1.3.0)\n"
          ]
        }
      ],
      "source": [
        "!pip install torchattacks"
      ]
    },
    {
      "cell_type": "markdown",
      "metadata": {
        "id": "HiC-UhtP0CPC"
      },
      "source": [
        "## Train Resnet on CIFAR10 (15 pts)"
      ]
    },
    {
      "cell_type": "code",
      "execution_count": 4,
      "metadata": {
        "colab": {
          "base_uri": "https://localhost:8080/"
        },
        "id": "yO89Vnmq0CPC",
        "outputId": "718dff1c-8f01-49f2-e4a8-1c061d8e9a94"
      },
      "outputs": [
        {
          "output_type": "stream",
          "name": "stdout",
          "text": [
            "Using downloaded and verified file: ./data/cifar-10-python.tar.gz\n",
            "Extracting ./data/cifar-10-python.tar.gz to ./data\n"
          ]
        },
        {
          "output_type": "stream",
          "name": "stderr",
          "text": [
            "/usr/local/lib/python3.10/dist-packages/torch/utils/data/dataloader.py:558: UserWarning: This DataLoader will create 4 worker processes in total. Our suggested max number of worker in current system is 2, which is smaller than what this DataLoader is going to create. Please be aware that excessive worker creation might get DataLoader running slow or even freeze, lower the worker number to avoid potential slowness/freeze if necessary.\n",
            "  warnings.warn(_create_warning_msg(\n"
          ]
        },
        {
          "output_type": "stream",
          "name": "stdout",
          "text": [
            "Files already downloaded and verified\n"
          ]
        }
      ],
      "source": [
        "# Prepare Cifar10 data\n",
        "batch_size = 128\n",
        "transform = transforms.Compose([transforms.ToTensor(),])\n",
        "\n",
        "##############################################################################\n",
        "# Prepare training and test datasets and dataloaders                         #\n",
        "##############################################################################\n",
        "trainset =  torchvision.datasets.CIFAR10(root='./data', train=True, download=True, transform=transform)\n",
        "trainloader = torch.utils.data.DataLoader(trainset, batch_size=batch_size, shuffle=True, num_workers=4)\n",
        "testset = torchvision.datasets.CIFAR10(root='./data', train=False, download=True, transform=transform)\n",
        "testloader = torch.utils.data.DataLoader(testset, batch_size=batch_size, shuffle=False, num_workers=4)\n",
        "################################ End #########################################\n",
        "\n",
        "classes = ('plane', 'car', 'bird', 'cat', 'deer', 'dog', 'frog', 'horse', 'ship', 'truck')"
      ]
    },
    {
      "cell_type": "code",
      "execution_count": 5,
      "metadata": {
        "id": "lkJaBU5U0CPD"
      },
      "outputs": [],
      "source": [
        "# model architecture\n",
        "class resnet(nn.Module):\n",
        "  def __init__(self, num_cls):\n",
        "    super().__init__()\n",
        "    self.conv = nn.Sequential(*list(resnet18(weights=None).children())[:-2])\n",
        "    self.fc = nn.Linear(512, num_cls)\n",
        "\n",
        "  def forward(self, x):\n",
        "    x = self.conv(x)\n",
        "    x = torch.flatten(x, start_dim=1)\n",
        "    logits = self.fc(x)\n",
        "    return logits\n",
        "\n",
        "##############################################################################\n",
        "# Initialize model and move to device                                        #\n",
        "##############################################################################\n",
        "model = resnet(num_cls=10)\n",
        "model = model.to(device)\n",
        "\n",
        "################################ End #########################################"
      ]
    },
    {
      "cell_type": "code",
      "execution_count": 6,
      "metadata": {
        "id": "azW2fmdg0CPE"
      },
      "outputs": [],
      "source": [
        "learning_rate = 0.01\n",
        "criterion = nn.CrossEntropyLoss()\n",
        "optimizer = optim.SGD(model.parameters(), lr=learning_rate, momentum=0.9)\n",
        "epochs = 20 # Because No GPU :("
      ]
    },
    {
      "cell_type": "code",
      "execution_count": 7,
      "metadata": {
        "colab": {
          "base_uri": "https://localhost:8080/"
        },
        "id": "vbnr25vU0CPE",
        "outputId": "390f959e-93f0-4e78-9a43-18f23ecbef40"
      },
      "outputs": [
        {
          "output_type": "stream",
          "name": "stderr",
          "text": [
            "  0%|          | 0/391 [00:00<?, ?it/s]/usr/local/lib/python3.10/dist-packages/torch/autograd/graph.py:744: UserWarning: Plan failed with a cudnnException: CUDNN_BACKEND_EXECUTION_PLAN_DESCRIPTOR: cudnnFinalize Descriptor Failed cudnn_status: CUDNN_STATUS_NOT_SUPPORTED (Triggered internally at ../aten/src/ATen/native/cudnn/Conv_v8.cpp:919.)\n",
            "  return Variable._execution_engine.run_backward(  # Calls into the C++ engine to run the backward pass\n",
            "100%|██████████| 391/391 [00:17<00:00, 22.02it/s]\n"
          ]
        },
        {
          "output_type": "stream",
          "name": "stdout",
          "text": [
            "Epoch 1\n",
            "Train accuarcy: 45.08\n",
            "Train loss: 6.39700355409911\n",
            "------------------------------------------------------------------------------------------------------------------------------------------------------\n"
          ]
        },
        {
          "output_type": "stream",
          "name": "stderr",
          "text": [
            "100%|██████████| 391/391 [00:16<00:00, 23.05it/s]\n"
          ]
        },
        {
          "output_type": "stream",
          "name": "stdout",
          "text": [
            "Epoch 2\n",
            "Train accuarcy: 59.652\n",
            "Train loss: 6.095742419696516\n",
            "------------------------------------------------------------------------------------------------------------------------------------------------------\n"
          ]
        },
        {
          "output_type": "stream",
          "name": "stderr",
          "text": [
            "100%|██████████| 391/391 [00:18<00:00, 20.98it/s]\n"
          ]
        },
        {
          "output_type": "stream",
          "name": "stdout",
          "text": [
            "Epoch 3\n",
            "Train accuarcy: 67.324\n",
            "Train loss: 5.899157118548415\n",
            "------------------------------------------------------------------------------------------------------------------------------------------------------\n"
          ]
        },
        {
          "output_type": "stream",
          "name": "stderr",
          "text": [
            "100%|██████████| 391/391 [00:17<00:00, 22.04it/s]\n"
          ]
        },
        {
          "output_type": "stream",
          "name": "stdout",
          "text": [
            "Epoch 4\n",
            "Train accuarcy: 72.486\n",
            "Train loss: 5.724768582618239\n",
            "------------------------------------------------------------------------------------------------------------------------------------------------------\n"
          ]
        },
        {
          "output_type": "stream",
          "name": "stderr",
          "text": [
            "100%|██████████| 391/391 [00:18<00:00, 21.18it/s]\n"
          ]
        },
        {
          "output_type": "stream",
          "name": "stdout",
          "text": [
            "Epoch 5\n",
            "Train accuarcy: 76.894\n",
            "Train loss: 5.546928669403257\n",
            "------------------------------------------------------------------------------------------------------------------------------------------------------\n"
          ]
        },
        {
          "output_type": "stream",
          "name": "stderr",
          "text": [
            "100%|██████████| 391/391 [00:18<00:00, 20.95it/s]\n"
          ]
        },
        {
          "output_type": "stream",
          "name": "stdout",
          "text": [
            "Epoch 6\n",
            "Train accuarcy: 80.62\n",
            "Train loss: 5.3688032394584795\n",
            "------------------------------------------------------------------------------------------------------------------------------------------------------\n"
          ]
        },
        {
          "output_type": "stream",
          "name": "stderr",
          "text": [
            "100%|██████████| 391/391 [00:18<00:00, 21.20it/s]\n"
          ]
        },
        {
          "output_type": "stream",
          "name": "stdout",
          "text": [
            "Epoch 7\n",
            "Train accuarcy: 83.974\n",
            "Train loss: 5.186706200387658\n",
            "------------------------------------------------------------------------------------------------------------------------------------------------------\n"
          ]
        },
        {
          "output_type": "stream",
          "name": "stderr",
          "text": [
            "100%|██████████| 391/391 [00:18<00:00, 21.09it/s]\n"
          ]
        },
        {
          "output_type": "stream",
          "name": "stdout",
          "text": [
            "Epoch 8\n",
            "Train accuarcy: 87.17\n",
            "Train loss: 4.962402826832024\n",
            "------------------------------------------------------------------------------------------------------------------------------------------------------\n"
          ]
        },
        {
          "output_type": "stream",
          "name": "stderr",
          "text": [
            "100%|██████████| 391/391 [00:18<00:00, 21.63it/s]\n"
          ]
        },
        {
          "output_type": "stream",
          "name": "stdout",
          "text": [
            "Epoch 9\n",
            "Train accuarcy: 89.572\n",
            "Train loss: 4.757018420751276\n",
            "------------------------------------------------------------------------------------------------------------------------------------------------------\n"
          ]
        },
        {
          "output_type": "stream",
          "name": "stderr",
          "text": [
            "100%|██████████| 391/391 [00:18<00:00, 20.99it/s]\n"
          ]
        },
        {
          "output_type": "stream",
          "name": "stdout",
          "text": [
            "Epoch 10\n",
            "Train accuarcy: 91.014\n",
            "Train loss: 4.590114056837432\n",
            "------------------------------------------------------------------------------------------------------------------------------------------------------\n"
          ]
        },
        {
          "output_type": "stream",
          "name": "stderr",
          "text": [
            "100%|██████████| 391/391 [00:18<00:00, 21.54it/s]\n"
          ]
        },
        {
          "output_type": "stream",
          "name": "stdout",
          "text": [
            "Epoch 11\n",
            "Train accuarcy: 92.932\n",
            "Train loss: 4.370067248102195\n",
            "------------------------------------------------------------------------------------------------------------------------------------------------------\n"
          ]
        },
        {
          "output_type": "stream",
          "name": "stderr",
          "text": [
            "100%|██████████| 391/391 [00:18<00:00, 21.16it/s]\n"
          ]
        },
        {
          "output_type": "stream",
          "name": "stdout",
          "text": [
            "Epoch 12\n",
            "Train accuarcy: 94.016\n",
            "Train loss: 4.180384391493732\n",
            "------------------------------------------------------------------------------------------------------------------------------------------------------\n"
          ]
        },
        {
          "output_type": "stream",
          "name": "stderr",
          "text": [
            "100%|██████████| 391/391 [00:18<00:00, 20.98it/s]\n"
          ]
        },
        {
          "output_type": "stream",
          "name": "stdout",
          "text": [
            "Epoch 13\n",
            "Train accuarcy: 94.878\n",
            "Train loss: 4.047490876570872\n",
            "------------------------------------------------------------------------------------------------------------------------------------------------------\n"
          ]
        },
        {
          "output_type": "stream",
          "name": "stderr",
          "text": [
            "100%|██████████| 391/391 [00:18<00:00, 21.54it/s]\n"
          ]
        },
        {
          "output_type": "stream",
          "name": "stdout",
          "text": [
            "Epoch 14\n",
            "Train accuarcy: 95.486\n",
            "Train loss: 3.9060339833338706\n",
            "------------------------------------------------------------------------------------------------------------------------------------------------------\n"
          ]
        },
        {
          "output_type": "stream",
          "name": "stderr",
          "text": [
            "100%|██████████| 391/391 [00:18<00:00, 20.96it/s]\n"
          ]
        },
        {
          "output_type": "stream",
          "name": "stdout",
          "text": [
            "Epoch 15\n",
            "Train accuarcy: 96.422\n",
            "Train loss: 3.6628869247066733\n",
            "------------------------------------------------------------------------------------------------------------------------------------------------------\n"
          ]
        },
        {
          "output_type": "stream",
          "name": "stderr",
          "text": [
            "100%|██████████| 391/391 [00:18<00:00, 21.53it/s]\n"
          ]
        },
        {
          "output_type": "stream",
          "name": "stdout",
          "text": [
            "Epoch 16\n",
            "Train accuarcy: 96.976\n",
            "Train loss: 3.519523674015656\n",
            "------------------------------------------------------------------------------------------------------------------------------------------------------\n"
          ]
        },
        {
          "output_type": "stream",
          "name": "stderr",
          "text": [
            "100%|██████████| 391/391 [00:18<00:00, 20.79it/s]\n"
          ]
        },
        {
          "output_type": "stream",
          "name": "stdout",
          "text": [
            "Epoch 17\n",
            "Train accuarcy: 97.46\n",
            "Train loss: 3.36079879802511\n",
            "------------------------------------------------------------------------------------------------------------------------------------------------------\n"
          ]
        },
        {
          "output_type": "stream",
          "name": "stderr",
          "text": [
            "100%|██████████| 391/391 [00:18<00:00, 21.54it/s]\n"
          ]
        },
        {
          "output_type": "stream",
          "name": "stdout",
          "text": [
            "Epoch 18\n",
            "Train accuarcy: 97.704\n",
            "Train loss: 3.2498809541330083\n",
            "------------------------------------------------------------------------------------------------------------------------------------------------------\n"
          ]
        },
        {
          "output_type": "stream",
          "name": "stderr",
          "text": [
            "100%|██████████| 391/391 [00:18<00:00, 21.08it/s]\n"
          ]
        },
        {
          "output_type": "stream",
          "name": "stdout",
          "text": [
            "Epoch 19\n",
            "Train accuarcy: 97.964\n",
            "Train loss: 3.1327910038002\n",
            "------------------------------------------------------------------------------------------------------------------------------------------------------\n"
          ]
        },
        {
          "output_type": "stream",
          "name": "stderr",
          "text": [
            "100%|██████████| 391/391 [00:18<00:00, 21.58it/s]"
          ]
        },
        {
          "output_type": "stream",
          "name": "stdout",
          "text": [
            "Epoch 20\n",
            "Train accuarcy: 98.32\n",
            "Train loss: 2.955285566584927\n",
            "------------------------------------------------------------------------------------------------------------------------------------------------------\n"
          ]
        },
        {
          "output_type": "stream",
          "name": "stderr",
          "text": [
            "\n"
          ]
        }
      ],
      "source": [
        "##############################################################################\n",
        "# Implement train loop and log training loss after each epoch                #\n",
        "##############################################################################\n",
        "from math import log\n",
        "\n",
        "for epoch in range(epochs):\n",
        "    model.train()\n",
        "    train_loss = 0\n",
        "    correct = 0\n",
        "    total = 0\n",
        "\n",
        "    for inputs, labels in tqdm(trainloader):\n",
        "        inputs, labels = inputs.to(device), labels.to(device)\n",
        "\n",
        "        optimizer.zero_grad()\n",
        "\n",
        "        outputs = model(inputs)\n",
        "        loss = criterion(outputs, labels)\n",
        "        loss.backward()\n",
        "        optimizer.step()\n",
        "\n",
        "        train_loss += loss.item()\n",
        "        _, predicted = outputs.max(1)\n",
        "\n",
        "        total += labels.size(0)\n",
        "        correct += predicted.eq(labels).sum().item()\n",
        "\n",
        "    print(\"Epoch\", str(epoch+1))\n",
        "    print('Train accuarcy:', correct * 100 / total)\n",
        "    print('Train loss:', log(train_loss))\n",
        "    print(\"-\" * 150)\n",
        "\n",
        "################################ End #########################################"
      ]
    },
    {
      "cell_type": "code",
      "execution_count": 8,
      "metadata": {
        "colab": {
          "base_uri": "https://localhost:8080/"
        },
        "id": "yrerIOL-0CPF",
        "outputId": "d3f96020-c24a-4c02-8a75-df70f5ef3b42"
      },
      "outputs": [
        {
          "output_type": "stream",
          "name": "stderr",
          "text": [
            " 87%|████████▋ | 69/79 [00:01<00:00, 44.65it/s]/usr/local/lib/python3.10/dist-packages/torch/nn/modules/conv.py:456: UserWarning: Plan failed with a cudnnException: CUDNN_BACKEND_EXECUTION_PLAN_DESCRIPTOR: cudnnFinalize Descriptor Failed cudnn_status: CUDNN_STATUS_NOT_SUPPORTED (Triggered internally at ../aten/src/ATen/native/cudnn/Conv_v8.cpp:919.)\n",
            "  return F.conv2d(input, weight, bias, self.stride,\n",
            "100%|██████████| 79/79 [00:01<00:00, 41.89it/s]"
          ]
        },
        {
          "output_type": "stream",
          "name": "stdout",
          "text": [
            "Test accuarcy: 69.49\n",
            "Test loss: 5.003338993457248\n",
            "------------------------------------------------------------------------------------------------------------------------------------------------------\n"
          ]
        },
        {
          "output_type": "stream",
          "name": "stderr",
          "text": [
            "\n"
          ]
        }
      ],
      "source": [
        "##############################################################################\n",
        "# Evaluate the trained model on test set and print test accuracy             #\n",
        "##############################################################################\n",
        "\n",
        "model.eval()\n",
        "test_loss = 0\n",
        "correct = 0\n",
        "total = 0\n",
        "\n",
        "with torch.no_grad():\n",
        "    for inputs, labels in tqdm(testloader):\n",
        "        inputs, labels = inputs.to(device), labels.to(device)\n",
        "        total += labels.size(0)\n",
        "\n",
        "        outputs = model(inputs)\n",
        "        loss = criterion(outputs, labels)\n",
        "        test_loss += loss.item()\n",
        "\n",
        "        _, predicted = outputs.max(1)\n",
        "        correct += predicted.eq(labels).sum().item()\n",
        "\n",
        "print('Test accuarcy:', correct * 100 / total)\n",
        "print('Test loss:', log(test_loss))\n",
        "print(\"-\" * 150)\n",
        "\n",
        "################################ End #########################################"
      ]
    },
    {
      "cell_type": "code",
      "execution_count": 9,
      "metadata": {
        "id": "WZzCplr60CPF"
      },
      "outputs": [],
      "source": [
        "# Save model\n",
        "model.eval()\n",
        "model_name = \"resnet18_cifar10_model_pretrained.pth\"\n",
        "model_PATH = f\"{model_name}\"\n",
        "torch.save(model.state_dict(), model_PATH)"
      ]
    },
    {
      "cell_type": "markdown",
      "metadata": {
        "id": "A4y8BDZj0CPF"
      },
      "source": [
        "## FGSM Attack using torchattacks (10 pts)"
      ]
    },
    {
      "cell_type": "markdown",
      "metadata": {
        "id": "2rPVOofC0CPG"
      },
      "source": [
        "In this section you should run FGSM attack using torchattacks library (https://adversarial-attacks-pytorch.readthedocs.io/en/latest/index.html).\n",
        "\n",
        "Run the attack for $\\epsilon \\in \\{\\frac{1}{255}, \\frac{4}{255}, \\frac{8}{255},\\}$ report the performance of the model on untargeted FGSM attack on the test data."
      ]
    },
    {
      "cell_type": "code",
      "execution_count": 10,
      "metadata": {
        "colab": {
          "base_uri": "https://localhost:8080/"
        },
        "id": "hrnoc_bm0CPG",
        "outputId": "07ee7e22-4a4a-4829-81c0-ef1e64f25fee"
      },
      "outputs": [
        {
          "output_type": "stream",
          "name": "stderr",
          "text": [
            "\r  0%|          | 0/79 [00:00<?, ?it/s]/usr/local/lib/python3.10/dist-packages/torch/utils/data/dataloader.py:558: UserWarning: This DataLoader will create 4 worker processes in total. Our suggested max number of worker in current system is 2, which is smaller than what this DataLoader is going to create. Please be aware that excessive worker creation might get DataLoader running slow or even freeze, lower the worker number to avoid potential slowness/freeze if necessary.\n",
            "  warnings.warn(_create_warning_msg(\n",
            " 96%|█████████▌| 76/79 [00:04<00:00, 19.61it/s]/usr/local/lib/python3.10/dist-packages/torch/autograd/graph.py:744: UserWarning: Plan failed with a cudnnException: CUDNN_BACKEND_EXECUTION_PLAN_DESCRIPTOR: cudnnFinalize Descriptor Failed cudnn_status: CUDNN_STATUS_NOT_SUPPORTED (Triggered internally at ../aten/src/ATen/native/cudnn/Conv_v8.cpp:919.)\n",
            "  return Variable._execution_engine.run_backward(  # Calls into the C++ engine to run the backward pass\n",
            "100%|██████████| 79/79 [00:04<00:00, 18.10it/s]"
          ]
        },
        {
          "output_type": "stream",
          "name": "stdout",
          "text": [
            "FGSM with epsilon = 1/255 test accuarcy: 49.97\n",
            "Total test loss: 5.735009279553102\n"
          ]
        },
        {
          "output_type": "stream",
          "name": "stderr",
          "text": [
            "\n"
          ]
        }
      ],
      "source": [
        "##############################################################################\n",
        "# run untargeted FGSM attack for epsilon = 1/255 and report its accuracy     #\n",
        "##############################################################################\n",
        "\n",
        "import torchattacks\n",
        "attack = torchattacks.FGSM(model, eps=1/255)\n",
        "\n",
        "tst_loss = 0\n",
        "correct = 0\n",
        "total = 0\n",
        "for inputs, labels in tqdm(testloader):\n",
        "    inputs, labels = inputs.to(device), labels.to(device)\n",
        "    adv_inputs = attack(inputs, labels)\n",
        "    total += labels.size(0)\n",
        "\n",
        "    outputs = model(adv_inputs)\n",
        "    loss = criterion(outputs, labels)\n",
        "    tst_loss += loss.item()\n",
        "\n",
        "    _, predicted = outputs.max(1)\n",
        "    correct += predicted.eq(labels).sum().item()\n",
        "\n",
        "\n",
        "print('FGSM with epsilon = 1/255 test accuarcy:', correct * 100 / total)\n",
        "print('Total test loss:', log(tst_loss))\n",
        "\n",
        "\n",
        "\n",
        "################################ End #########################################"
      ]
    },
    {
      "cell_type": "code",
      "execution_count": 11,
      "metadata": {
        "colab": {
          "base_uri": "https://localhost:8080/"
        },
        "id": "z1dZbvwo0CPG",
        "outputId": "a39302b5-d096-4d96-82f8-0b6f80e056ba"
      },
      "outputs": [
        {
          "output_type": "stream",
          "name": "stderr",
          "text": [
            "100%|██████████| 79/79 [00:03<00:00, 20.25it/s]"
          ]
        },
        {
          "output_type": "stream",
          "name": "stdout",
          "text": [
            "FGSM with epsilon = 4/255 test accuarcy: 17.77\n",
            "Total test loss: 6.740581304808986\n"
          ]
        },
        {
          "output_type": "stream",
          "name": "stderr",
          "text": [
            "\n"
          ]
        }
      ],
      "source": [
        "##############################################################################\n",
        "# run untargeted FGSM attack for epsilon = 4/255 and report its accuracy     #\n",
        "##############################################################################\n",
        "\n",
        "attack = torchattacks.FGSM(model, eps=4/255)\n",
        "\n",
        "tst_loss = 0\n",
        "correct = 0\n",
        "total = 0\n",
        "for inputs, labels in tqdm(testloader):\n",
        "    inputs, labels = inputs.to(device), labels.to(device)\n",
        "    adv_inputs = attack(inputs, labels)\n",
        "    total += labels.size(0)\n",
        "\n",
        "    outputs = model(adv_inputs)\n",
        "    loss = criterion(outputs, labels)\n",
        "    tst_loss += loss.item()\n",
        "\n",
        "    _, predicted = outputs.max(1)\n",
        "    correct += predicted.eq(labels).sum().item()\n",
        "\n",
        "\n",
        "print('FGSM with epsilon = 4/255 test accuarcy:', correct * 100 / total)\n",
        "print('Total test loss:', log(tst_loss))\n",
        "\n",
        "\n",
        "\n",
        "\n",
        "\n",
        "################################ End #########################################"
      ]
    },
    {
      "cell_type": "code",
      "execution_count": 12,
      "metadata": {
        "colab": {
          "base_uri": "https://localhost:8080/"
        },
        "id": "E3LL3UHJ0CPG",
        "outputId": "19296718-16cc-42fe-a3f1-810386811061"
      },
      "outputs": [
        {
          "output_type": "stream",
          "name": "stderr",
          "text": [
            "100%|██████████| 79/79 [00:03<00:00, 20.89it/s]"
          ]
        },
        {
          "output_type": "stream",
          "name": "stdout",
          "text": [
            "FGSM with epsilon = 8/255 test accuarcy: 8.47\n",
            "Total test loss: 7.171068061031422\n"
          ]
        },
        {
          "output_type": "stream",
          "name": "stderr",
          "text": [
            "\n"
          ]
        }
      ],
      "source": [
        "##############################################################################\n",
        "# run untargeted FGSM attack for epsilon = 8/255 and report its accuracy     #\n",
        "##############################################################################\n",
        "\n",
        "attack = torchattacks.FGSM(model, eps=8/255)\n",
        "\n",
        "tst_loss = 0\n",
        "correct = 0\n",
        "total = 0\n",
        "for inputs, labels in tqdm(testloader):\n",
        "    inputs, labels = inputs.to(device), labels.to(device)\n",
        "    adv_inputs = attack(inputs, labels)\n",
        "    total += labels.size(0)\n",
        "\n",
        "    outputs = model(adv_inputs)\n",
        "    loss = criterion(outputs, labels)\n",
        "    tst_loss += loss.item()\n",
        "\n",
        "    _, predicted = outputs.max(1)\n",
        "    correct += predicted.eq(labels).sum().item()\n",
        "\n",
        "\n",
        "print('FGSM with epsilon = 8/255 test accuarcy:', correct * 100 / total)\n",
        "print('Total test loss:', log(tst_loss))\n",
        "\n",
        "################################ End #########################################"
      ]
    },
    {
      "cell_type": "markdown",
      "metadata": {
        "id": "O3rOlypH0CPH"
      },
      "source": [
        "## PGD Attack from scratch (30 pts)"
      ]
    },
    {
      "cell_type": "markdown",
      "metadata": {
        "id": "oYIzXK5X0CPH"
      },
      "source": [
        "In this section you should implement PGD attack from scratch."
      ]
    },
    {
      "cell_type": "code",
      "execution_count": 31,
      "metadata": {
        "id": "BQN0ohGl0CPH"
      },
      "outputs": [],
      "source": [
        "class LinfPGDAttack(object):\n",
        "\n",
        "    def __init__(self, model, epsilon = 8/255, k = 2, alpha = 2/255):\n",
        "        self.model = model\n",
        "        self.epsilon = epsilon\n",
        "        self.steps = k\n",
        "        self.alpha = alpha\n",
        "\n",
        "    def __call__(self, image, label):\n",
        "\n",
        "        image = image.to(device)\n",
        "        label = label.to(device)\n",
        "\n",
        "        out = self.model(image)\n",
        "        _, pred = torch.max(out, 1)\n",
        "\n",
        "        perturbed_image = image.clone()\n",
        "        perturbed_image.to(device)\n",
        "\n",
        "        if pred.item() == label.item():\n",
        "            ##############################################################################\n",
        "            # Implement a k step PGD attack of size alpha                                #\n",
        "            # while always staying within epsilon distance from the initial point        #\n",
        "            # Use cross entropy loss                                                     #\n",
        "            ##############################################################################\n",
        "\n",
        "            perturbed_image += torch.zeros_like(perturbed_image).uniform_(-1 * self.epsilon, self.epsilon)\n",
        "\n",
        "            for i in range(self.steps):\n",
        "                perturbed_image.requires_grad_()\n",
        "                with torch.enable_grad():\n",
        "                    loss = F.cross_entropy(self.model(perturbed_image), label)\n",
        "                grad = torch.autograd.grad(loss, [perturbed_image])[0]\n",
        "\n",
        "                perturbed_image = perturbed_image.detach()\n",
        "                perturbed_image += self.alpha * torch.sign(grad.detach())\n",
        "                perturbed_image = torch.min(torch.max(perturbed_image, image - self.epsilon), image + self.epsilon)\n",
        "                perturbed_image = torch.clamp(perturbed_image, 0, 1)\n",
        "            # print(perturbed_image)\n",
        "\n",
        "            ################################ End #########################################\n",
        "\n",
        "        return perturbed_image"
      ]
    },
    {
      "cell_type": "code",
      "execution_count": 32,
      "metadata": {
        "colab": {
          "base_uri": "https://localhost:8080/"
        },
        "id": "v69dPdFz0CPH",
        "outputId": "503647b0-1c35-4618-ec2f-6403e2fa0e8e"
      },
      "outputs": [
        {
          "output_type": "stream",
          "name": "stdout",
          "text": [
            "Results for k = 2\n"
          ]
        },
        {
          "output_type": "stream",
          "name": "stderr",
          "text": [
            "100%|██████████| 79/79 [01:56<00:00,  1.47s/it]\n"
          ]
        },
        {
          "output_type": "stream",
          "name": "stdout",
          "text": [
            "Total adversarial test Accuarcy: 16.82\n",
            "Total adversarial test loss: 6.277417831143963\n",
            "Results for k = 4\n"
          ]
        },
        {
          "output_type": "stream",
          "name": "stderr",
          "text": [
            "100%|██████████| 79/79 [03:19<00:00,  2.52s/it]\n"
          ]
        },
        {
          "output_type": "stream",
          "name": "stdout",
          "text": [
            "Total adversarial test Accuarcy: 4.51\n",
            "Total adversarial test loss: 6.899872098183463\n",
            "Results for k = 8\n"
          ]
        },
        {
          "output_type": "stream",
          "name": "stderr",
          "text": [
            "100%|██████████| 79/79 [06:04<00:00,  4.62s/it]"
          ]
        },
        {
          "output_type": "stream",
          "name": "stdout",
          "text": [
            "Total adversarial test Accuarcy: 0.96\n",
            "Total adversarial test loss: 7.280637620491841\n"
          ]
        },
        {
          "output_type": "stream",
          "name": "stderr",
          "text": [
            "\n"
          ]
        }
      ],
      "source": [
        "##############################################################################\n",
        "# Evaluate PGD attack on the trained model with k=2,4,8                      #\n",
        "##############################################################################\n",
        "\n",
        "k_list = [2,4,8]\n",
        "\n",
        "##############################################################################\n",
        "\n",
        "# Your code goes here\n",
        "for ki in k_list:\n",
        "    print(\"Results for k =\", ki)\n",
        "    adversary = LinfPGDAttack(model, epsilon = 8/255, k = ki, alpha = 2/255)\n",
        "    model.eval()\n",
        "\n",
        "    tst_loss = 0\n",
        "    correct = 0\n",
        "    total = 0\n",
        "    with torch.no_grad():\n",
        "        for inputs, labels in tqdm(testloader):\n",
        "            inputs, labels = inputs.to(device), labels.to(device)\n",
        "            total += labels.size(0)\n",
        "            # print(inputs.size(), labels.size())\n",
        "\n",
        "            # temp = torch.zeros(size=inputs.size()).to(device)\n",
        "            # for j in range(inputs.size(0)):\n",
        "            #     x = inputs[j].unsqueeze(0).clone()\n",
        "            #     if j == 0:\n",
        "            #         print(\"x size\", x.size())\n",
        "            #     print(x)\n",
        "            #     adv = adversary(x, labels[j].unsqueeze(0))\n",
        "            #     temp[j] = x.squeeze(0).clone()\n",
        "\n",
        "            # adv = adversary(temp, labels)\n",
        "            temp = torch.stack([adversary(torch.unsqueeze(input, 0),\n",
        "                                       torch.unsqueeze(label, 0)).squeeze()\n",
        "                                       for input, label in zip(inputs, labels)])\n",
        "\n",
        "            outputs = model(temp)\n",
        "            loss = criterion(outputs, labels)\n",
        "            tst_loss += loss.item()\n",
        "\n",
        "            _, predicted = outputs.max(1)\n",
        "            correct += predicted.eq(labels).sum().item()\n",
        "\n",
        "    print('Total adversarial test Accuarcy:', correct * 100 / total)\n",
        "    print('Total adversarial test loss:', log(tst_loss))\n",
        "\n",
        "################################ End #########################################"
      ]
    },
    {
      "cell_type": "markdown",
      "metadata": {
        "id": "llDNnlDg0CPH"
      },
      "source": [
        "## Visualization (10 pts)"
      ]
    },
    {
      "cell_type": "markdown",
      "metadata": {
        "id": "YjiYkIq30CPI"
      },
      "source": [
        "Implement a function to plot the original image, the perturbed imaged and their predicted labels by the model"
      ]
    },
    {
      "cell_type": "code",
      "execution_count": 15,
      "metadata": {
        "id": "hBg2-oQ70CPI"
      },
      "outputs": [],
      "source": [
        "##############################################################################\n",
        "# Implement the function described                                           #\n",
        "##############################################################################\n",
        "\n",
        "\n",
        "import numpy as np\n",
        "import matplotlib.pyplot as plt\n",
        "from collections import defaultdict\n",
        "\n",
        "def plotimg(img, perturbed_img, label, perturbed_label):\n",
        "    global classes\n",
        "    class_dict = {i:e for i, e in enumerate(list(classes))}\n",
        "    f, axarr = plt.subplots(1, 2, figsize=(6, 3))\n",
        "    # print(img.shape, type(img), perturbed_img.shape, type(perturbed_img))\n",
        "    # print(class_dict)\n",
        "    # print(label.detach().cpu().item())\n",
        "    # print()\n",
        "    axarr[0].imshow(img)\n",
        "    axarr[0].set_title(str(\"imperturbed mode\\nassigned class:\" + str(class_dict[label.detach().cpu().item()])), size=8)\n",
        "    axarr[1].imshow(perturbed_img)\n",
        "    axarr[1].set_title(str(\"perturbed mode\\nassigned class:\" + str(class_dict[perturbed_label.detach().cpu().item()])), size=8)\n",
        "    axarr[0].get_xaxis().set_visible(False)\n",
        "    axarr[0].get_yaxis().set_visible(False)\n",
        "    axarr[1].get_xaxis().set_visible(False)\n",
        "    axarr[1].get_yaxis().set_visible(False)\n",
        "    plt.show()\n",
        "\n",
        "################################ End #########################################"
      ]
    },
    {
      "cell_type": "code",
      "execution_count": 16,
      "metadata": {
        "id": "85fGQz610CPI",
        "colab": {
          "base_uri": "https://localhost:8080/",
          "height": 829
        },
        "outputId": "e2d8f59e-a073-4b57-9b73-aa438a1f3456"
      },
      "outputs": [
        {
          "output_type": "stream",
          "name": "stderr",
          "text": [
            "\r  0%|          | 0/79 [00:00<?, ?it/s]"
          ]
        },
        {
          "output_type": "display_data",
          "data": {
            "text/plain": [
              "<Figure size 600x300 with 2 Axes>"
            ],
            "image/png": "[encoded data removed]"
          },
          "metadata": {}
        },
        {
          "output_type": "display_data",
          "data": {
            "text/plain": [
              "<Figure size 600x300 with 2 Axes>"
            ],
            "image/png": "[encoded data removed]"
          },
          "metadata": {}
        },
        {
          "output_type": "display_data",
          "data": {
            "text/plain": [
              "<Figure size 600x300 with 2 Axes>"
            ],
            "image/png": "[encoded data removed]"
          },
          "metadata": {}
        },
        {
          "output_type": "stream",
          "name": "stderr",
          "text": [
            "\r  0%|          | 0/79 [00:00<?, ?it/s]\n"
          ]
        }
      ],
      "source": [
        "##############################################################################\n",
        "# Choose 3 random images from testset and run FGSM attack and visualize      #\n",
        "##############################################################################\n",
        "attack = torchattacks.FGSM(model, eps=8/255)\n",
        "\n",
        "model.eval()\n",
        "total = 0\n",
        "\n",
        "for inputs, labels in tqdm(testloader):\n",
        "    inputs, labels = inputs.to(device), labels.to(device)\n",
        "\n",
        "    # Shuffle so that samples are random\n",
        "    indices = torch.randperm(labels.size()[0])\n",
        "    inputs = inputs[indices]\n",
        "    labels = labels[indices]\n",
        "    total += labels.size(0)\n",
        "\n",
        "    outputs = model(inputs)\n",
        "    _, predicted = outputs.max(1)\n",
        "\n",
        "    adv = attack(inputs, labels)\n",
        "    adv_outputs = model(adv)\n",
        "    _, predicted2 = adv_outputs.max(1)\n",
        "\n",
        "    plot_count = 0\n",
        "    for img, perturbed_img, label, perturbed_label, true_label in zip(inputs, adv, predicted, predicted2, labels):\n",
        "        if label == true_label and perturbed_label != true_label:\n",
        "            # print(img.T.detach().cpu().numpy().shape, perturbed_img.T.detach().cpu().numpy().shape, inputs.shape, adv.shape)\n",
        "            plotimg(img.permute(1, 2, 0).detach().cpu().numpy(), perturbed_img.permute(1, 2, 0).detach().cpu().numpy(), label, perturbed_label)\n",
        "            plot_count += 1\n",
        "        if plot_count >= 3:\n",
        "            break\n",
        "    break\n",
        "\n",
        "\n",
        "################################ End #########################################"
      ]
    },
    {
      "cell_type": "code",
      "execution_count": 18,
      "metadata": {
        "id": "7NWzMSzb0CPI",
        "colab": {
          "base_uri": "https://localhost:8080/",
          "height": 866
        },
        "outputId": "98a9a287-50af-44f7-e174-f8d4a6e55d37"
      },
      "outputs": [
        {
          "output_type": "stream",
          "name": "stderr",
          "text": [
            "\r  0%|          | 0/79 [00:00<?, ?it/s]/usr/local/lib/python3.10/dist-packages/torch/utils/data/dataloader.py:558: UserWarning: This DataLoader will create 4 worker processes in total. Our suggested max number of worker in current system is 2, which is smaller than what this DataLoader is going to create. Please be aware that excessive worker creation might get DataLoader running slow or even freeze, lower the worker number to avoid potential slowness/freeze if necessary.\n",
            "  warnings.warn(_create_warning_msg(\n"
          ]
        },
        {
          "output_type": "display_data",
          "data": {
            "text/plain": [
              "<Figure size 600x300 with 2 Axes>"
            ],
            "image/png": "[encoded data removed]"
          },
          "metadata": {}
        },
        {
          "output_type": "display_data",
          "data": {
            "text/plain": [
              "<Figure size 600x300 with 2 Axes>"
            ],
            "image/png": "[encoded data removed]"
          },
          "metadata": {}
        },
        {
          "output_type": "display_data",
          "data": {
            "text/plain": [
              "<Figure size 600x300 with 2 Axes>"
            ],
            "image/png": "[encoded data removed]"
          },
          "metadata": {}
        },
        {
          "output_type": "stream",
          "name": "stderr",
          "text": [
            "\r  0%|          | 0/79 [00:05<?, ?it/s]\n"
          ]
        }
      ],
      "source": [
        "##############################################################################\n",
        "# Choose 3 random images from testset and run PGD attack and visualize      #\n",
        "##############################################################################\n",
        "\n",
        "adversary = LinfPGDAttack(model, epsilon = 8/255, k = 8, alpha = 2/255)\n",
        "model.eval()\n",
        "total = 0\n",
        "\n",
        "with torch.no_grad():\n",
        "    for inputs, labels in tqdm(testloader):\n",
        "        inputs, labels = inputs.to(device), labels.to(device)\n",
        "\n",
        "        # Shuffle so that samples are random\n",
        "        indices = torch.randperm(labels.size()[0])\n",
        "        inputs = inputs[indices]\n",
        "        labels = labels[indices]\n",
        "        total += labels.size(0)\n",
        "\n",
        "        outputs = model(inputs)\n",
        "        _, predicted = outputs.max(1)\n",
        "\n",
        "        # temp = torch.zeros(size=inputs.size()).to(device)\n",
        "        # for j in range(inputs.size(0)):\n",
        "        #     x = inputs[j].unsqueeze(0)\n",
        "        #     adv = adversary(x, labels[j].unsqueeze(0))\n",
        "        #     temp[j] = x.squeeze(0)\n",
        "        temp = torch.stack([adversary(torch.unsqueeze(input, 0),\n",
        "                                       torch.unsqueeze(label, 0)).squeeze()\n",
        "                                       for input, label in zip(inputs, labels)])\n",
        "\n",
        "        outputs = model(temp)\n",
        "        _, predicted2 = adv_outputs.max(1)\n",
        "\n",
        "        plot_count = 0\n",
        "        # print(inputs.shape, adv.shape, predicted.shape, predicted2.shape, labels.shape)\n",
        "        for img, perturbed_img, label, perturbed_label, true_label in zip(inputs, temp, predicted, predicted2, labels):\n",
        "            if label == true_label and perturbed_label != true_label:\n",
        "                # print(img.T.detach().cpu().numpy().shape, perturbed_img.T.detach().cpu().numpy().shape, inputs.shape, adv.shape)\n",
        "                plotimg(img.permute(1, 2, 0).detach().cpu().numpy(), perturbed_img.permute(1, 2, 0).detach().cpu().numpy(), label, perturbed_label)\n",
        "                plot_count += 1\n",
        "            if plot_count >= 3:\n",
        "                break\n",
        "        break\n",
        "\n",
        "################################ End #########################################"
      ]
    },
    {
      "cell_type": "markdown",
      "metadata": {
        "id": "QhJM3_FS0CPI"
      },
      "source": [
        "## Adversarial Training (35 pts)"
      ]
    },
    {
      "cell_type": "markdown",
      "metadata": {
        "id": "lIxQY-890CPI"
      },
      "source": [
        "In this section you are going to adversarially train your model and see the results."
      ]
    },
    {
      "cell_type": "code",
      "execution_count": 20,
      "metadata": {
        "id": "TsYH19Ni0CPJ",
        "colab": {
          "base_uri": "https://localhost:8080/"
        },
        "outputId": "4385ce30-76ed-413f-bf15-5ca392adb06e"
      },
      "outputs": [
        {
          "output_type": "stream",
          "name": "stderr",
          "text": [
            "\r  0%|          | 0/391 [00:00<?, ?it/s]/usr/local/lib/python3.10/dist-packages/torch/utils/data/dataloader.py:558: UserWarning: This DataLoader will create 4 worker processes in total. Our suggested max number of worker in current system is 2, which is smaller than what this DataLoader is going to create. Please be aware that excessive worker creation might get DataLoader running slow or even freeze, lower the worker number to avoid potential slowness/freeze if necessary.\n",
            "  warnings.warn(_create_warning_msg(\n",
            "100%|██████████| 391/391 [00:34<00:00, 11.46it/s]\n"
          ]
        },
        {
          "output_type": "stream",
          "name": "stdout",
          "text": [
            "Epoch 1\n",
            "Train accuarcy: 21.252\n",
            "Train loss: 6.72338063457149\n",
            "------------------------------------------------------------------------------------------------------------------------------------------------------\n"
          ]
        },
        {
          "output_type": "stream",
          "name": "stderr",
          "text": [
            "100%|██████████| 391/391 [00:32<00:00, 12.12it/s]\n"
          ]
        },
        {
          "output_type": "stream",
          "name": "stdout",
          "text": [
            "Epoch 2\n",
            "Train accuarcy: 25.18\n",
            "Train loss: 6.656494686721692\n",
            "------------------------------------------------------------------------------------------------------------------------------------------------------\n"
          ]
        },
        {
          "output_type": "stream",
          "name": "stderr",
          "text": [
            "100%|██████████| 391/391 [00:32<00:00, 12.04it/s]\n"
          ]
        },
        {
          "output_type": "stream",
          "name": "stdout",
          "text": [
            "Epoch 3\n",
            "Train accuarcy: 27.466\n",
            "Train loss: 6.626603442165215\n",
            "------------------------------------------------------------------------------------------------------------------------------------------------------\n"
          ]
        },
        {
          "output_type": "stream",
          "name": "stderr",
          "text": [
            "100%|██████████| 391/391 [00:32<00:00, 11.87it/s]\n"
          ]
        },
        {
          "output_type": "stream",
          "name": "stdout",
          "text": [
            "Epoch 4\n",
            "Train accuarcy: 28.878\n",
            "Train loss: 6.602645435785402\n",
            "------------------------------------------------------------------------------------------------------------------------------------------------------\n"
          ]
        },
        {
          "output_type": "stream",
          "name": "stderr",
          "text": [
            "100%|██████████| 391/391 [00:32<00:00, 12.05it/s]\n"
          ]
        },
        {
          "output_type": "stream",
          "name": "stdout",
          "text": [
            "Epoch 5\n",
            "Train accuarcy: 30.418\n",
            "Train loss: 6.580951770077907\n",
            "------------------------------------------------------------------------------------------------------------------------------------------------------\n"
          ]
        },
        {
          "output_type": "stream",
          "name": "stderr",
          "text": [
            "100%|██████████| 391/391 [00:32<00:00, 11.89it/s]\n"
          ]
        },
        {
          "output_type": "stream",
          "name": "stdout",
          "text": [
            "Epoch 6\n",
            "Train accuarcy: 31.458\n",
            "Train loss: 6.562590732088269\n",
            "------------------------------------------------------------------------------------------------------------------------------------------------------\n"
          ]
        },
        {
          "output_type": "stream",
          "name": "stderr",
          "text": [
            "100%|██████████| 391/391 [00:32<00:00, 12.01it/s]\n"
          ]
        },
        {
          "output_type": "stream",
          "name": "stdout",
          "text": [
            "Epoch 7\n",
            "Train accuarcy: 32.418\n",
            "Train loss: 6.54493764228571\n",
            "------------------------------------------------------------------------------------------------------------------------------------------------------\n"
          ]
        },
        {
          "output_type": "stream",
          "name": "stderr",
          "text": [
            "100%|██████████| 391/391 [00:32<00:00, 12.03it/s]\n"
          ]
        },
        {
          "output_type": "stream",
          "name": "stdout",
          "text": [
            "Epoch 8\n",
            "Train accuarcy: 33.312\n",
            "Train loss: 6.5280379549175676\n",
            "------------------------------------------------------------------------------------------------------------------------------------------------------\n"
          ]
        },
        {
          "output_type": "stream",
          "name": "stderr",
          "text": [
            "100%|██████████| 391/391 [00:32<00:00, 12.01it/s]\n"
          ]
        },
        {
          "output_type": "stream",
          "name": "stdout",
          "text": [
            "Epoch 9\n",
            "Train accuarcy: 34.26\n",
            "Train loss: 6.509805773772537\n",
            "------------------------------------------------------------------------------------------------------------------------------------------------------\n"
          ]
        },
        {
          "output_type": "stream",
          "name": "stderr",
          "text": [
            "100%|██████████| 391/391 [00:32<00:00, 11.97it/s]\n"
          ]
        },
        {
          "output_type": "stream",
          "name": "stdout",
          "text": [
            "Epoch 10\n",
            "Train accuarcy: 35.342\n",
            "Train loss: 6.489384443496261\n",
            "------------------------------------------------------------------------------------------------------------------------------------------------------\n"
          ]
        },
        {
          "output_type": "stream",
          "name": "stderr",
          "text": [
            "100%|██████████| 391/391 [00:32<00:00, 11.94it/s]\n"
          ]
        },
        {
          "output_type": "stream",
          "name": "stdout",
          "text": [
            "Epoch 11\n",
            "Train accuarcy: 36.374\n",
            "Train loss: 6.470527308980361\n",
            "------------------------------------------------------------------------------------------------------------------------------------------------------\n"
          ]
        },
        {
          "output_type": "stream",
          "name": "stderr",
          "text": [
            "100%|██████████| 391/391 [00:32<00:00, 12.00it/s]\n"
          ]
        },
        {
          "output_type": "stream",
          "name": "stdout",
          "text": [
            "Epoch 12\n",
            "Train accuarcy: 37.082\n",
            "Train loss: 6.452161922549374\n",
            "------------------------------------------------------------------------------------------------------------------------------------------------------\n"
          ]
        },
        {
          "output_type": "stream",
          "name": "stderr",
          "text": [
            "100%|██████████| 391/391 [00:32<00:00, 11.97it/s]\n"
          ]
        },
        {
          "output_type": "stream",
          "name": "stdout",
          "text": [
            "Epoch 13\n",
            "Train accuarcy: 38.454\n",
            "Train loss: 6.428667926842067\n",
            "------------------------------------------------------------------------------------------------------------------------------------------------------\n"
          ]
        },
        {
          "output_type": "stream",
          "name": "stderr",
          "text": [
            "100%|██████████| 391/391 [00:32<00:00, 11.94it/s]\n"
          ]
        },
        {
          "output_type": "stream",
          "name": "stdout",
          "text": [
            "Epoch 14\n",
            "Train accuarcy: 39.072\n",
            "Train loss: 6.408019764533238\n",
            "------------------------------------------------------------------------------------------------------------------------------------------------------\n"
          ]
        },
        {
          "output_type": "stream",
          "name": "stderr",
          "text": [
            "100%|██████████| 391/391 [00:32<00:00, 12.02it/s]\n"
          ]
        },
        {
          "output_type": "stream",
          "name": "stdout",
          "text": [
            "Epoch 15\n",
            "Train accuarcy: 40.53\n",
            "Train loss: 6.380909210145742\n",
            "------------------------------------------------------------------------------------------------------------------------------------------------------\n"
          ]
        },
        {
          "output_type": "stream",
          "name": "stderr",
          "text": [
            "100%|██████████| 391/391 [00:32<00:00, 11.87it/s]\n"
          ]
        },
        {
          "output_type": "stream",
          "name": "stdout",
          "text": [
            "Epoch 16\n",
            "Train accuarcy: 41.294\n",
            "Train loss: 6.358599330321802\n",
            "------------------------------------------------------------------------------------------------------------------------------------------------------\n"
          ]
        },
        {
          "output_type": "stream",
          "name": "stderr",
          "text": [
            "100%|██████████| 391/391 [00:32<00:00, 12.01it/s]\n"
          ]
        },
        {
          "output_type": "stream",
          "name": "stdout",
          "text": [
            "Epoch 17\n",
            "Train accuarcy: 42.49\n",
            "Train loss: 6.3346318644537964\n",
            "------------------------------------------------------------------------------------------------------------------------------------------------------\n"
          ]
        },
        {
          "output_type": "stream",
          "name": "stderr",
          "text": [
            "100%|██████████| 391/391 [00:32<00:00, 12.05it/s]\n"
          ]
        },
        {
          "output_type": "stream",
          "name": "stdout",
          "text": [
            "Epoch 18\n",
            "Train accuarcy: 43.552\n",
            "Train loss: 6.3061340661771625\n",
            "------------------------------------------------------------------------------------------------------------------------------------------------------\n"
          ]
        },
        {
          "output_type": "stream",
          "name": "stderr",
          "text": [
            "100%|██████████| 391/391 [00:32<00:00, 11.89it/s]\n"
          ]
        },
        {
          "output_type": "stream",
          "name": "stdout",
          "text": [
            "Epoch 19\n",
            "Train accuarcy: 45.206\n",
            "Train loss: 6.2752359847165815\n",
            "------------------------------------------------------------------------------------------------------------------------------------------------------\n"
          ]
        },
        {
          "output_type": "stream",
          "name": "stderr",
          "text": [
            "100%|██████████| 391/391 [00:32<00:00, 12.08it/s]\n"
          ]
        },
        {
          "output_type": "stream",
          "name": "stdout",
          "text": [
            "Epoch 20\n",
            "Train accuarcy: 46.18\n",
            "Train loss: 6.246247633447389\n",
            "------------------------------------------------------------------------------------------------------------------------------------------------------\n"
          ]
        },
        {
          "output_type": "stream",
          "name": "stderr",
          "text": [
            "100%|██████████| 391/391 [00:32<00:00, 12.01it/s]\n"
          ]
        },
        {
          "output_type": "stream",
          "name": "stdout",
          "text": [
            "Epoch 21\n",
            "Train accuarcy: 47.374\n",
            "Train loss: 6.219964608943077\n",
            "------------------------------------------------------------------------------------------------------------------------------------------------------\n"
          ]
        },
        {
          "output_type": "stream",
          "name": "stderr",
          "text": [
            "100%|██████████| 391/391 [00:32<00:00, 11.89it/s]\n"
          ]
        },
        {
          "output_type": "stream",
          "name": "stdout",
          "text": [
            "Epoch 22\n",
            "Train accuarcy: 49.156\n",
            "Train loss: 6.181046367140844\n",
            "------------------------------------------------------------------------------------------------------------------------------------------------------\n"
          ]
        },
        {
          "output_type": "stream",
          "name": "stderr",
          "text": [
            "100%|██████████| 391/391 [00:32<00:00, 12.07it/s]\n"
          ]
        },
        {
          "output_type": "stream",
          "name": "stdout",
          "text": [
            "Epoch 23\n",
            "Train accuarcy: 50.076\n",
            "Train loss: 6.156518692535896\n",
            "------------------------------------------------------------------------------------------------------------------------------------------------------\n"
          ]
        },
        {
          "output_type": "stream",
          "name": "stderr",
          "text": [
            "100%|██████████| 391/391 [00:32<00:00, 12.02it/s]\n"
          ]
        },
        {
          "output_type": "stream",
          "name": "stdout",
          "text": [
            "Epoch 24\n",
            "Train accuarcy: 51.504\n",
            "Train loss: 6.1240809138965915\n",
            "------------------------------------------------------------------------------------------------------------------------------------------------------\n"
          ]
        },
        {
          "output_type": "stream",
          "name": "stderr",
          "text": [
            "100%|██████████| 391/391 [00:32<00:00, 12.07it/s]"
          ]
        },
        {
          "output_type": "stream",
          "name": "stdout",
          "text": [
            "Epoch 25\n",
            "Train accuarcy: 52.81\n",
            "Train loss: 6.092435621979808\n",
            "------------------------------------------------------------------------------------------------------------------------------------------------------\n"
          ]
        },
        {
          "output_type": "stream",
          "name": "stderr",
          "text": [
            "\n"
          ]
        }
      ],
      "source": [
        "##############################################################################\n",
        "# Load a new resnet model for adversarial training                           #\n",
        "# Train the model on perturbed images from                                   #\n",
        "# untargeted FGSM attack with epsilon = 8/255 on train dataset               #\n",
        "# Also use the following setup for training the model                        #\n",
        "##############################################################################\n",
        "\n",
        "adv_model = resnet(num_cls=10) # Your code goes here\n",
        "adv_model.to(device)\n",
        "\n",
        "learning_rate = 0.01\n",
        "criterion = nn.CrossEntropyLoss()\n",
        "optimizer = optim.SGD(adv_model.parameters(), lr=learning_rate, momentum=0.9)\n",
        "epochs = 25 # No GPU :(\n",
        "\n",
        "\n",
        "# Your code goes here\n",
        "attack = torchattacks.FGSM(adv_model, eps=8/255)\n",
        "\n",
        "\n",
        "for epoch in range(epochs):\n",
        "    adv_model.train()\n",
        "    train_loss = 0\n",
        "    correct = 0\n",
        "    total = 0\n",
        "\n",
        "    for inputs, labels in tqdm(trainloader):\n",
        "        inputs, labels = inputs.to(device), labels.to(device)\n",
        "\n",
        "        optimizer.zero_grad()\n",
        "\n",
        "        adv = attack(inputs, labels)\n",
        "        outputs = adv_model(adv)\n",
        "        loss = criterion(outputs, labels)\n",
        "        loss.backward()\n",
        "        optimizer.step()\n",
        "\n",
        "        train_loss += loss.item()\n",
        "        _, predicted = outputs.max(1)\n",
        "\n",
        "        total += labels.size(0)\n",
        "        correct += predicted.eq(labels).sum().item()\n",
        "\n",
        "    print(\"Epoch\", str(epoch+1))\n",
        "    print('Train accuarcy:', correct * 100 / total)\n",
        "    print('Train loss:', log(train_loss))\n",
        "    print(\"-\" * 150)\n",
        "\n",
        "################################ End #########################################"
      ]
    },
    {
      "cell_type": "code",
      "execution_count": 21,
      "metadata": {
        "id": "zgKAfmNg0CPJ",
        "colab": {
          "base_uri": "https://localhost:8080/"
        },
        "outputId": "bea11eeb-3c08-40d8-aa30-a84609ec5801"
      },
      "outputs": [
        {
          "output_type": "stream",
          "name": "stderr",
          "text": [
            "100%|██████████| 79/79 [00:01<00:00, 40.58it/s]"
          ]
        },
        {
          "output_type": "stream",
          "name": "stdout",
          "text": [
            "Test accuarcy: 56.91\n",
            "Test loss: 4.592612855187354\n",
            "------------------------------------------------------------------------------------------------------------------------------------------------------\n"
          ]
        },
        {
          "output_type": "stream",
          "name": "stderr",
          "text": [
            "\n"
          ]
        }
      ],
      "source": [
        "##############################################################################\n",
        "# Evaluate the new model on the test dataset                                 #\n",
        "##############################################################################\n",
        "\n",
        "# Your code goes here\n",
        "adv_model.eval()\n",
        "test_loss = 0\n",
        "correct = 0\n",
        "total = 0\n",
        "\n",
        "with torch.no_grad():\n",
        "    for inputs, labels in tqdm(testloader):\n",
        "        inputs, labels = inputs.to(device), labels.to(device)\n",
        "        total += labels.size(0)\n",
        "\n",
        "        outputs = adv_model(inputs)\n",
        "        loss = criterion(outputs, labels)\n",
        "        test_loss += loss.item()\n",
        "\n",
        "        _, predicted = outputs.max(1)\n",
        "        correct += predicted.eq(labels).sum().item()\n",
        "\n",
        "print('Test accuarcy:', correct * 100 / total)\n",
        "print('Test loss:', log(test_loss))\n",
        "print(\"-\" * 150)\n",
        "\n",
        "################################ End #########################################"
      ]
    },
    {
      "cell_type": "code",
      "execution_count": 24,
      "metadata": {
        "id": "q9T8gBmo0CPJ",
        "colab": {
          "base_uri": "https://localhost:8080/"
        },
        "outputId": "8d337b72-7d93-4e4f-ff1a-04d9e2231c3c"
      },
      "outputs": [
        {
          "output_type": "stream",
          "name": "stderr",
          "text": [
            "100%|██████████| 79/79 [00:03<00:00, 20.47it/s]"
          ]
        },
        {
          "output_type": "stream",
          "name": "stdout",
          "text": [
            "FGSM with epsilon = 8/255 test accuarcy: 27.83\n",
            "Total test loss: 5.259329679354128\n"
          ]
        },
        {
          "output_type": "stream",
          "name": "stderr",
          "text": [
            "\n"
          ]
        }
      ],
      "source": [
        "##############################################################################\n",
        "# Run FGSM attack on the adversarially trained model with epsilon = 8/255    #\n",
        "##############################################################################\n",
        "\n",
        "# Your code goes here\n",
        "attack = torchattacks.FGSM(adv_model, eps=8/255)\n",
        "\n",
        "tst_loss = 0\n",
        "correct = 0\n",
        "total = 0\n",
        "for inputs, labels in tqdm(testloader):\n",
        "    inputs, labels = inputs.to(device), labels.to(device)\n",
        "    adv_inputs = attack(inputs, labels)\n",
        "    total += labels.size(0)\n",
        "\n",
        "    outputs = adv_model(adv_inputs)\n",
        "    loss = criterion(outputs, labels)\n",
        "    tst_loss += loss.item()\n",
        "\n",
        "    _, predicted = outputs.max(1)\n",
        "    correct += predicted.eq(labels).sum().item()\n",
        "\n",
        "\n",
        "print('FGSM with epsilon = 8/255 test accuarcy:', correct * 100 / total)\n",
        "print('Total test loss:', log(tst_loss))\n",
        "\n",
        "################################ End #########################################"
      ]
    },
    {
      "cell_type": "code",
      "execution_count": 26,
      "metadata": {
        "id": "UvSBdnSo0CPJ",
        "colab": {
          "base_uri": "https://localhost:8080/"
        },
        "outputId": "91edf461-80b4-4285-8f29-bb8b2f79ad16"
      },
      "outputs": [
        {
          "output_type": "stream",
          "name": "stderr",
          "text": [
            "\r  0%|          | 0/79 [00:00<?, ?it/s]/usr/local/lib/python3.10/dist-packages/torch/utils/data/dataloader.py:558: UserWarning: This DataLoader will create 4 worker processes in total. Our suggested max number of worker in current system is 2, which is smaller than what this DataLoader is going to create. Please be aware that excessive worker creation might get DataLoader running slow or even freeze, lower the worker number to avoid potential slowness/freeze if necessary.\n",
            "  warnings.warn(_create_warning_msg(\n",
            "100%|██████████| 79/79 [05:02<00:00,  3.83s/it]"
          ]
        },
        {
          "output_type": "stream",
          "name": "stdout",
          "text": [
            "Total adversarial test Accuarcy: 22.51\n",
            "Total adversarial test loss: 4.97637265066819\n"
          ]
        },
        {
          "output_type": "stream",
          "name": "stderr",
          "text": [
            "\n"
          ]
        }
      ],
      "source": [
        "##############################################################################\n",
        "#  Run PGD attack on the adversarially trained model with k=4                #\n",
        "##############################################################################\n",
        "\n",
        "# Your code goes here\n",
        "adversary = LinfPGDAttack(adv_model, epsilon = 8/255, k = 4, alpha = 2/255)\n",
        "adv_model.eval()\n",
        "\n",
        "tst_loss = 0\n",
        "correct = 0\n",
        "total = 0\n",
        "with torch.no_grad():\n",
        "    for inputs, labels in tqdm(testloader):\n",
        "        inputs, labels = inputs.to(device), labels.to(device)\n",
        "        total += labels.size(0)\n",
        "        # print(inputs.size(), labels.size())\n",
        "\n",
        "        # temp = torch.zeros(size=inputs.size()).to(device)\n",
        "        # for j in range(inputs.size(0)):\n",
        "        #     x = inputs[j].unsqueeze(0).clone()\n",
        "        #     if j == 0:\n",
        "        #         print(\"x size\", x.size())\n",
        "        #     print(x)\n",
        "        #     adv = adversary(x, labels[j].unsqueeze(0))\n",
        "        #     temp[j] = x.squeeze(0).clone()\n",
        "\n",
        "        # adv = adversary(temp, labels)\n",
        "        temp = torch.stack([adversary(torch.unsqueeze(input, 0),\n",
        "                                    torch.unsqueeze(label, 0)).squeeze()\n",
        "                                    for input, label in zip(inputs, labels)])\n",
        "\n",
        "        outputs = adv_model(temp)\n",
        "        loss = criterion(outputs, labels)\n",
        "        tst_loss += loss.item()\n",
        "\n",
        "        _, predicted = outputs.max(1)\n",
        "        correct += predicted.eq(labels).sum().item()\n",
        "\n",
        "print('Total adversarial test Accuarcy:', correct * 100 / total)\n",
        "print('Total adversarial test loss:', log(tst_loss))\n",
        "\n",
        "################################ End #########################################"
      ]
    },
    {
      "cell_type": "markdown",
      "metadata": {
        "id": "wvUsFMDF0CPK"
      },
      "source": [
        "Answer the following questions:\n",
        "- What happened to the accuracy of the adversarially trained model?\n",
        "- What do you conclude from the result of the FGSM attack on the adversarially trained model?\n",
        "- What do you conclude from the result of the PGD attack on the adversarially trained model?\n",
        "- What is you final conclusion?"
      ]
    },
    {
      "cell_type": "markdown",
      "source": [
        "<div dir=\"rtl\">\n",
        "<font face=\"tahoma\" size=5 color=\"navy\">\n",
        "<ol>\n",
        "<li>\n",
        "<p>\n",
        "نسبت به مدلی که عادی ترین شده باشد روی داده تست دقت کمتری دارد بخاطر اینکه توزیع داده‌ای که روی آن ترین شده بیشتر با توزیع داده‌ی تست فرق می‌کند.\n",
        "</p>\n",
        "</li>\n",
        "\n",
        "<li>\n",
        "<p>\n",
        "مدل عادی روی داده‌ی تست ۶۹ درصد دقت داشت (چون فقط ۲۰ تا ایپاک ترین شده بود) اما FGSM معمولی یا پارامتر ۱/۲۵۵ هم می‌توانست دقت آن را تا ۲۰ درصد پایین بیاورد. با افزایش eps به ۸/۲۵۵، دقت به ۸.۵ درصد کاهش پیدا میکرد اما نتیجه این بود که در عکس‌ها هم perturbation قابل‌تشخیص‌تر بود چون می‌دانیم FGSM داده را دقیقا به اندازه‌ eps شیفت می‌دهد نه مثل PGD که می‌تواند داده را کمتر از eps هم شیفت بدهد (بسته به مشتق)\n",
        "اما وقتی adversarial training انجام دادیم دقت روی داده‌ی تست perturbشده از ۸.۵ به ۲۷.۸ درصد افزایش پیدا کرد.\n",
        "\n",
        "</p>\n",
        "</li>\n",
        "\n",
        "<li>\n",
        "<p>\n",
        "PGD دقت مدل را بیشتر کاهش می‌دهد و با ۴ تا ایتریشن دقت را به 4.5 درصد کاهش می‌دهد و با ۸ تا ایتریشن به زیر ۱ درصد می‌رساند و دلیلش هم این است که perturbation را برخلاف FSGM در k تا ایتریشن انجام می‌دهد. مشاهده می‌کنیم که به ازای epsilon یکسان هم perturbation در عکس‌ها کمتر از FSGM قابل مشاهده است.\n",
        "وقتی adversarial training انجام دادیم، دقت مدل به 22.5 درصد افزایش پیدا کرد که نسبت به FGSM کمتر است اما باز هم خیلی بهتر از ۴.۷ درصدی است که مدلی که روی داده‌ی عادی ترین شده بود بدست می‌آورد.\n",
        "</p>\n",
        "</li>\n",
        "\n",
        "<li>\n",
        "<p>\n",
        "اول با دیدن نتایج روی داده‌ی تست perturbنشده می‌فهمیم که بین robustness و دقت در زمان تست یک tradeoff وجود دارد (که در سوال ۱ گفته شد) دوما حتی با انجام دادن adversarial training هم مدل نمی‌تواند کاملا روی داده‌ی تست perturbشده همان دقت داده‌ی تست perturbنشده را بدست بیاورد.\n",
        "</p>\n",
        "</li>\n",
        "</ol>\n",
        "</font>\n",
        "</div>"
      ],
      "metadata": {
        "id": "rsLkcsQDwg4K"
      }
    }
  ],
  "metadata": {
    "accelerator": "GPU",
    "colab": {
      "gpuType": "T4",
      "provenance": []
    },
    "kernelspec": {
      "display_name": "Python 3",
      "name": "python3"
    },
    "language_info": {
      "name": "python"
    }
  },
  "nbformat": 4,
  "nbformat_minor": 0
}